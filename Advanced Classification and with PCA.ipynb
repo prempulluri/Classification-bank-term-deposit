{
 "cells": [
  {
   "cell_type": "markdown",
   "metadata": {},
   "source": [
    "# BUAN 6341.002 - Applied Machine Learning\n",
    "# Project 2\n",
    "\n",
    "\n",
    "## Professor : Nassim Sohaee\n",
    "\n",
    "\n",
    "### Submitted by :\n",
    "### Prem Kumar Pulluri\n"
   ]
  },
  {
   "cell_type": "code",
   "execution_count": 2,
   "metadata": {},
   "outputs": [],
   "source": [
    "import numpy as np\n",
    "import matplotlib.pyplot as plt\n",
    "import pandas as pd\n",
    "import seaborn as sns\n",
    "from sklearn.model_selection import train_test_split\n",
    "from sklearn.pipeline import Pipeline\n",
    "from feature_engine import missing_data_imputers as mdi\n",
    "from feature_engine.categorical_encoders import OneHotCategoricalEncoder\n",
    "from feature_engine.categorical_encoders import RareLabelCategoricalEncoder\n",
    "from sklearn.preprocessing import MinMaxScaler, RobustScaler, StandardScaler\n",
    "%matplotlib inline"
   ]
  },
  {
   "cell_type": "markdown",
   "metadata": {},
   "source": [
    "## Classification Part"
   ]
  },
  {
   "cell_type": "markdown",
   "metadata": {},
   "source": [
    "## Load the dataset"
   ]
  },
  {
   "cell_type": "code",
   "execution_count": 2,
   "metadata": {},
   "outputs": [],
   "source": [
    "df = pd.read_csv('bank_final_new.csv')"
   ]
  },
  {
   "cell_type": "code",
   "execution_count": 3,
   "metadata": {},
   "outputs": [
    {
     "data": {
      "text/plain": [
       "yes    1716\n",
       "no     1632\n",
       "Name: y, dtype: int64"
      ]
     },
     "execution_count": 3,
     "metadata": {},
     "output_type": "execute_result"
    }
   ],
   "source": [
    "df.y.value_counts()"
   ]
  },
  {
   "cell_type": "markdown",
   "metadata": {},
   "source": [
    "Dataset looks balanced"
   ]
  },
  {
   "cell_type": "markdown",
   "metadata": {},
   "source": [
    "## Pre-processing"
   ]
  },
  {
   "cell_type": "markdown",
   "metadata": {},
   "source": [
    "### Check for null values"
   ]
  },
  {
   "cell_type": "code",
   "execution_count": 4,
   "metadata": {},
   "outputs": [
    {
     "data": {
      "text/plain": [
       "<matplotlib.axes._subplots.AxesSubplot at 0x1a2bd2f10c8>"
      ]
     },
     "execution_count": 4,
     "metadata": {},
     "output_type": "execute_result"
    },
    {
     "data": {
      "image/png": "[encoded data removed]",
      "text/plain": [
       "<Figure size 432x288 with 2 Axes>"
      ]
     },
     "metadata": {
      "needs_background": "light"
     },
     "output_type": "display_data"
    }
   ],
   "source": [
    "sns.heatmap(df.isnull(),)"
   ]
  },
  {
   "cell_type": "markdown",
   "metadata": {},
   "source": [
    "### Drop unnecessary columns"
   ]
  },
  {
   "cell_type": "code",
   "execution_count": 5,
   "metadata": {},
   "outputs": [],
   "source": [
    "df.drop(['day', 'month', 'contact', 'pdays', 'previous', 'poutcome'], axis=1, inplace=True)"
   ]
  },
  {
   "cell_type": "markdown",
   "metadata": {},
   "source": [
    "### Drop rows where target variable has null values"
   ]
  },
  {
   "cell_type": "code",
   "execution_count": 6,
   "metadata": {},
   "outputs": [],
   "source": [
    "df.dropna(subset=['y'], inplace=True)"
   ]
  },
  {
   "cell_type": "code",
   "execution_count": 7,
   "metadata": {},
   "outputs": [],
   "source": [
    "df_og = df.copy()"
   ]
  },
  {
   "cell_type": "code",
   "execution_count": 8,
   "metadata": {},
   "outputs": [
    {
     "data": {
      "text/plain": [
       "<matplotlib.axes._subplots.AxesSubplot at 0x1a2bdcba1c8>"
      ]
     },
     "execution_count": 8,
     "metadata": {},
     "output_type": "execute_result"
    },
    {
     "data": {
      "image/png": "[encoded data removed]",
      "text/plain": [
       "<Figure size 432x288 with 1 Axes>"
      ]
     },
     "metadata": {
      "needs_background": "light"
     },
     "output_type": "display_data"
    }
   ],
   "source": [
    "# Checking to see outliers\n",
    "df.boxplot()"
   ]
  },
  {
   "cell_type": "code",
   "execution_count": 9,
   "metadata": {},
   "outputs": [],
   "source": [
    "df.y = df.y.map(dict(yes=1, no=0)) # Mapping 'yes' and 'no' to 1 and 0"
   ]
  },
  {
   "cell_type": "code",
   "execution_count": 10,
   "metadata": {},
   "outputs": [],
   "source": [
    "X = df.drop(['y'], axis=1) # Extracting features from the dataset"
   ]
  },
  {
   "cell_type": "code",
   "execution_count": 11,
   "metadata": {},
   "outputs": [],
   "source": [
    "y = df[['y']] # Extracting target variable from dataset"
   ]
  },
  {
   "cell_type": "markdown",
   "metadata": {},
   "source": [
    "### Splitting data into train and test set"
   ]
  },
  {
   "cell_type": "code",
   "execution_count": 12,
   "metadata": {},
   "outputs": [],
   "source": [
    "X_train_og, X_test_og, y_train, y_test = train_test_split(X,y,test_size=0.3,random_state=0)"
   ]
  },
  {
   "cell_type": "markdown",
   "metadata": {},
   "source": [
    "### Preprocessing pipeline"
   ]
  },
  {
   "cell_type": "code",
   "execution_count": 13,
   "metadata": {},
   "outputs": [],
   "source": [
    "bank_pipe = Pipeline([\n",
    "\n",
    "    # missing data imputation pipeline\n",
    "    ('imputer_num_mean',\n",
    "     mdi.MeanMedianImputer(imputation_method='mean',variables=['age'])),\n",
    "    \n",
    "    ('imputer_num_mean2',\n",
    "     mdi.MeanMedianImputer(imputation_method='mean',variables=['duration'])),\n",
    "    \n",
    "    ('imputer_num_mean3',\n",
    "     mdi.MeanMedianImputer(imputation_method='mean',variables=['campaign'])),\n",
    "    \n",
    "    ('imputer_num_mean4',\n",
    "     mdi.MeanMedianImputer(imputation_method='mean',variables=['balance'])),\n",
    "    \n",
    "    ('imputer_cat_missing',\n",
    "     mdi.CategoricalVariableImputer(variables=['job','marital', 'education', 'default'\n",
    "                                              , 'housing', 'loan'])),\n",
    "    \n",
    "    # Variables to encode\n",
    "    ('categorical_encoder',\n",
    "     OneHotCategoricalEncoder( top_categories=None,\n",
    "                               variables=['job','marital', 'education', 'default'\n",
    "                                        , 'housing', 'loan'],\n",
    "                               drop_last=True)),\n",
    "    \n",
    "])"
   ]
  },
  {
   "cell_type": "code",
   "execution_count": 14,
   "metadata": {},
   "outputs": [
    {
     "data": {
      "text/plain": [
       "Pipeline(memory=None,\n",
       "     steps=[('imputer_num_mean', MeanMedianImputer(imputation_method='mean', variables=['age'])), ('imputer_num_mean2', MeanMedianImputer(imputation_method='mean', variables=['duration'])), ('imputer_num_mean3', MeanMedianImputer(imputation_method='mean', variables=['campaign'])), ('imputer_num_mean4', M...gories=None,\n",
       "             variables=['job', 'marital', 'education', 'default', 'housing', 'loan']))])"
      ]
     },
     "execution_count": 14,
     "metadata": {},
     "output_type": "execute_result"
    }
   ],
   "source": [
    "bank_pipe.fit(X_train_og, y_train) # Fitting data to pipeline"
   ]
  },
  {
   "cell_type": "code",
   "execution_count": 15,
   "metadata": {},
   "outputs": [],
   "source": [
    "X_train_imputed = bank_pipe.transform(X_train_og)\n",
    "X_test_imputed = bank_pipe.transform(X_test_og) # Fetching the pipeline fitted dataset"
   ]
  },
  {
   "cell_type": "markdown",
   "metadata": {},
   "source": [
    "Discretizing continuous features here"
   ]
  },
  {
   "cell_type": "code",
   "execution_count": 16,
   "metadata": {},
   "outputs": [],
   "source": [
    "X_train_imputed.age = pd.cut(X_train_imputed.age, bins=10)\n",
    "X_test_imputed.age = pd.cut(X_test_imputed.age, bins=10) \n",
    "# discretizing continuous feature"
   ]
  },
  {
   "cell_type": "code",
   "execution_count": 17,
   "metadata": {},
   "outputs": [],
   "source": [
    "X_train_imputed.balance = pd.cut(X_train_imputed.balance, bins=5)\n",
    "X_test_imputed.balance = pd.cut(X_test_imputed.balance, bins=5) \n",
    "# discretizing continuous feature"
   ]
  },
  {
   "cell_type": "code",
   "execution_count": 18,
   "metadata": {},
   "outputs": [],
   "source": [
    "X_train_imputed.duration = pd.cut(X_train_imputed.duration, bins=5)\n",
    "X_test_imputed.duration = pd.cut(X_test_imputed.duration, bins=5) \n",
    "# discretizing continuous feature"
   ]
  },
  {
   "cell_type": "code",
   "execution_count": 19,
   "metadata": {},
   "outputs": [],
   "source": [
    "X_train_imputed = pd.get_dummies(X_train_imputed, columns=['age', 'balance', 'duration'])\n",
    "X_test_imputed = pd.get_dummies(X_test_imputed, columns=['age', 'balance', 'duration'])\n",
    "# Creating dummy variables from dicretized features"
   ]
  },
  {
   "cell_type": "code",
   "execution_count": 20,
   "metadata": {},
   "outputs": [],
   "source": [
    "# Scaling data using Robust scaler because there are outliers\n",
    "scaler = RobustScaler()\n",
    "scaler.fit(X_train_imputed)\n",
    "X_train = scaler.transform(X_train_imputed)\n",
    "X_test = scaler.transform(X_test_imputed)"
   ]
  },
  {
   "cell_type": "code",
   "execution_count": 21,
   "metadata": {},
   "outputs": [],
   "source": [
    "y_train = y_train.values.ravel()\n",
    "y_test = y_test.values.ravel()"
   ]
  },
  {
   "cell_type": "code",
   "execution_count": 22,
   "metadata": {},
   "outputs": [],
   "source": [
    "ensemble_report = pd.DataFrame(index = '0 1 2 3 4 5 6 7 8 9'.split(), columns='ModelName TrainScore TestScore'.split())"
   ]
  },
  {
   "cell_type": "markdown",
   "metadata": {},
   "source": [
    "## Voting Classifiers"
   ]
  },
  {
   "cell_type": "code",
   "execution_count": 23,
   "metadata": {},
   "outputs": [],
   "source": [
    "from sklearn.linear_model import LogisticRegression\n",
    "from sklearn.naive_bayes import GaussianNB\n",
    "from sklearn.ensemble import RandomForestClassifier, VotingClassifier"
   ]
  },
  {
   "cell_type": "code",
   "execution_count": 24,
   "metadata": {},
   "outputs": [],
   "source": [
    "clf1 = LogisticRegression(multi_class='auto', random_state=1)\n",
    "clf2 = RandomForestClassifier(n_estimators=50, random_state=1)\n",
    "clf3 = GaussianNB()"
   ]
  },
  {
   "cell_type": "markdown",
   "metadata": {},
   "source": [
    "### Hard voting"
   ]
  },
  {
   "cell_type": "code",
   "execution_count": 25,
   "metadata": {},
   "outputs": [],
   "source": [
    "vc1 = VotingClassifier(estimators=[('lr', clf1), ('rf', clf2), ('gnb', clf3)], voting='hard')"
   ]
  },
  {
   "cell_type": "code",
   "execution_count": 26,
   "metadata": {},
   "outputs": [
    {
     "name": "stderr",
     "output_type": "stream",
     "text": [
      "D:\\Users\\hvard\\Anaconda3\\lib\\site-packages\\sklearn\\linear_model\\logistic.py:433: FutureWarning: Default solver will be changed to 'lbfgs' in 0.22. Specify a solver to silence this warning.\n",
      "  FutureWarning)\n"
     ]
    },
    {
     "data": {
      "text/plain": [
       "VotingClassifier(estimators=[('lr', LogisticRegression(C=1.0, class_weight=None, dual=False, fit_intercept=True,\n",
       "          intercept_scaling=1, max_iter=100, multi_class='auto',\n",
       "          n_jobs=None, penalty='l2', random_state=1, solver='warn',\n",
       "          tol=0.0001, verbose=0, warm_start=False)), ('rf', RandomFores...andom_state=1, verbose=0, warm_start=False)), ('gnb', GaussianNB(priors=None, var_smoothing=1e-09))],\n",
       "         flatten_transform=None, n_jobs=None, voting='hard', weights=None)"
      ]
     },
     "execution_count": 26,
     "metadata": {},
     "output_type": "execute_result"
    }
   ],
   "source": [
    "vc1.fit(X_train, y_train)"
   ]
  },
  {
   "cell_type": "code",
   "execution_count": 27,
   "metadata": {},
   "outputs": [
    {
     "name": "stdout",
     "output_type": "stream",
     "text": [
      "Hard voting Classifier Train Performance:  0.795134443021767\n",
      "Hard voting Classifier Test Performance:  0.663681592039801\n"
     ]
    }
   ],
   "source": [
    "print(\"Hard voting Classifier Train Performance: \",vc1.score(X_train,y_train))\n",
    "print(\"Hard voting Classifier Test Performance: \",vc1.score(X_test,y_test))"
   ]
  },
  {
   "cell_type": "code",
   "execution_count": 28,
   "metadata": {},
   "outputs": [],
   "source": [
    "ensemble_report['ModelName']['0'] = 'Hard voting Classifier'\n",
    "ensemble_report['TrainScore']['0'] = vc1.score(X_train,y_train)\n",
    "ensemble_report['TestScore']['0'] = vc1.score(X_test,y_test)"
   ]
  },
  {
   "cell_type": "markdown",
   "metadata": {},
   "source": [
    "### Soft voting"
   ]
  },
  {
   "cell_type": "code",
   "execution_count": 29,
   "metadata": {},
   "outputs": [],
   "source": [
    "vc2 = VotingClassifier(estimators=[('lr', clf1), ('rf', clf2), ('gnb', clf3)], voting='soft')"
   ]
  },
  {
   "cell_type": "code",
   "execution_count": 30,
   "metadata": {},
   "outputs": [
    {
     "name": "stderr",
     "output_type": "stream",
     "text": [
      "D:\\Users\\hvard\\Anaconda3\\lib\\site-packages\\sklearn\\linear_model\\logistic.py:433: FutureWarning: Default solver will be changed to 'lbfgs' in 0.22. Specify a solver to silence this warning.\n",
      "  FutureWarning)\n"
     ]
    },
    {
     "data": {
      "text/plain": [
       "VotingClassifier(estimators=[('lr', LogisticRegression(C=1.0, class_weight=None, dual=False, fit_intercept=True,\n",
       "          intercept_scaling=1, max_iter=100, multi_class='auto',\n",
       "          n_jobs=None, penalty='l2', random_state=1, solver='warn',\n",
       "          tol=0.0001, verbose=0, warm_start=False)), ('rf', RandomFores...andom_state=1, verbose=0, warm_start=False)), ('gnb', GaussianNB(priors=None, var_smoothing=1e-09))],\n",
       "         flatten_transform=None, n_jobs=None, voting='soft', weights=None)"
      ]
     },
     "execution_count": 30,
     "metadata": {},
     "output_type": "execute_result"
    }
   ],
   "source": [
    "vc2.fit(X_train, y_train)"
   ]
  },
  {
   "cell_type": "code",
   "execution_count": 31,
   "metadata": {},
   "outputs": [
    {
     "name": "stdout",
     "output_type": "stream",
     "text": [
      "Soft voting Classifier Train Performance:  0.7144686299615877\n",
      "Soft voting Classifier Test Performance:  0.6557213930348259\n"
     ]
    }
   ],
   "source": [
    "print(\"Soft voting Classifier Train Performance: \",vc2.score(X_train,y_train))\n",
    "print(\"Soft voting Classifier Test Performance: \",vc2.score(X_test,y_test))"
   ]
  },
  {
   "cell_type": "code",
   "execution_count": 32,
   "metadata": {},
   "outputs": [],
   "source": [
    "ensemble_report['ModelName']['1'] = 'Soft voting Classifier'\n",
    "ensemble_report['TrainScore']['1'] = vc2.score(X_train,y_train)\n",
    "ensemble_report['TestScore']['1'] = vc2.score(X_test,y_test)"
   ]
  },
  {
   "cell_type": "markdown",
   "metadata": {},
   "source": [
    "## Bagging"
   ]
  },
  {
   "cell_type": "markdown",
   "metadata": {},
   "source": [
    "### Bagging with SVC"
   ]
  },
  {
   "cell_type": "code",
   "execution_count": 33,
   "metadata": {},
   "outputs": [],
   "source": [
    "from sklearn.ensemble import BaggingClassifier\n",
    "from sklearn.tree import DecisionTreeClassifier\n",
    "from sklearn.model_selection import GridSearchCV\n",
    "from sklearn import metrics"
   ]
  },
  {
   "cell_type": "code",
   "execution_count": 34,
   "metadata": {},
   "outputs": [
    {
     "name": "stdout",
     "output_type": "stream",
     "text": [
      "Support Vector Classifier Train Performance:  0.696969696969697\n",
      "Support Vector Classifier Test Performance:  0.708457711442786\n"
     ]
    }
   ],
   "source": [
    "from sklearn.svm import SVC\n",
    "bag_svc1 = BaggingClassifier(base_estimator=SVC(C=10,gamma=0.01,kernel='rbf'), bootstrap=True, random_state=0, oob_score=False)\n",
    "\n",
    "bag_svc1.fit(X_train, y_train)\n",
    "#Check test data set performance\n",
    "print(\"Support Vector Classifier Train Performance: \",bag_svc1.score(X_train,y_train))\n",
    "print(\"Support Vector Classifier Test Performance: \",bag_svc1.score(X_test,y_test))"
   ]
  },
  {
   "cell_type": "code",
   "execution_count": 35,
   "metadata": {},
   "outputs": [],
   "source": [
    "ensemble_report['ModelName']['2'] = 'SVC Bagging Classifier'\n",
    "ensemble_report['TrainScore']['2'] = bag_svc1.score(X_train,y_train)\n",
    "ensemble_report['TestScore']['2'] = bag_svc1.score(X_test,y_test)"
   ]
  },
  {
   "cell_type": "markdown",
   "metadata": {},
   "source": [
    "### Bagging with Decision tree"
   ]
  },
  {
   "cell_type": "code",
   "execution_count": 36,
   "metadata": {},
   "outputs": [
    {
     "data": {
      "text/plain": [
       "BaggingClassifier(base_estimator=DecisionTreeClassifier(class_weight=None, criterion='gini', max_depth=None,\n",
       "            max_features=None, max_leaf_nodes=None,\n",
       "            min_impurity_decrease=0.0, min_impurity_split=None,\n",
       "            min_samples_leaf=1, min_samples_split=2,\n",
       "            min_weight_fraction_leaf=0.0, presort=False, random_state=None,\n",
       "            splitter='best'),\n",
       "         bootstrap=True, bootstrap_features=False, max_features=1.0,\n",
       "         max_samples=1.0, n_estimators=10, n_jobs=None, oob_score=False,\n",
       "         random_state=0, verbose=0, warm_start=False)"
      ]
     },
     "execution_count": 36,
     "metadata": {},
     "output_type": "execute_result"
    }
   ],
   "source": [
    "bag_dtree1 = BaggingClassifier(base_estimator=DecisionTreeClassifier(), bootstrap=True, random_state=0, oob_score=False)\n",
    "\n",
    "bag_dtree1.fit(X_train,y_train)"
   ]
  },
  {
   "cell_type": "code",
   "execution_count": 37,
   "metadata": {},
   "outputs": [
    {
     "name": "stdout",
     "output_type": "stream",
     "text": [
      "Train score is 0.9082373026034998\n",
      "Test score is 0.6258706467661691\n"
     ]
    }
   ],
   "source": [
    "print(f'Train score is {bag_dtree1.score(X_train,y_train)}')\n",
    "print(f'Test score is {bag_dtree1.score(X_test,y_test)}')"
   ]
  },
  {
   "cell_type": "code",
   "execution_count": 38,
   "metadata": {},
   "outputs": [],
   "source": [
    "ensemble_report['ModelName']['3'] = 'Decision Tree Bagging Classifier'\n",
    "ensemble_report['TrainScore']['3'] = bag_dtree1.score(X_train,y_train)\n",
    "ensemble_report['TestScore']['3'] = bag_dtree1.score(X_test,y_test)"
   ]
  },
  {
   "cell_type": "markdown",
   "metadata": {},
   "source": [
    "## Pasting"
   ]
  },
  {
   "cell_type": "markdown",
   "metadata": {},
   "source": [
    "### Pasting with SVC"
   ]
  },
  {
   "cell_type": "code",
   "execution_count": 39,
   "metadata": {},
   "outputs": [
    {
     "name": "stdout",
     "output_type": "stream",
     "text": [
      "Support Vector Classifier Train Performance:  0.6794707639778063\n",
      "Support Vector Classifier Test Performance:  0.6955223880597015\n",
      "\n"
     ]
    }
   ],
   "source": [
    "from sklearn.svm import SVC\n",
    "paste_svm_grid = BaggingClassifier(base_estimator=SVC(gamma='auto'), bootstrap=False, random_state=0, oob_score=False)\n",
    "\n",
    "paste_svm_grid.fit(X_train, y_train)\n",
    "\n",
    "#Check test data set performance\n",
    "print(\"Support Vector Classifier Train Performance: \",paste_svm_grid.score(X_train,y_train))\n",
    "print(\"Support Vector Classifier Test Performance: \",paste_svm_grid.score(X_test,y_test))\n",
    "print()"
   ]
  },
  {
   "cell_type": "code",
   "execution_count": 40,
   "metadata": {},
   "outputs": [],
   "source": [
    "ensemble_report['ModelName']['4'] = 'SVC pasting Classifier'\n",
    "ensemble_report['TrainScore']['4'] = paste_svm_grid.score(X_train,y_train)\n",
    "ensemble_report['TestScore']['4'] = paste_svm_grid.score(X_test,y_test)"
   ]
  },
  {
   "cell_type": "markdown",
   "metadata": {},
   "source": [
    "### Pasting with Decision tree"
   ]
  },
  {
   "cell_type": "code",
   "execution_count": 41,
   "metadata": {},
   "outputs": [
    {
     "name": "stdout",
     "output_type": "stream",
     "text": [
      "Train score is 0.9193341869398207\n",
      "Test score is 0.5980099502487563\n"
     ]
    }
   ],
   "source": [
    "paste_dtree1 = BaggingClassifier(base_estimator=DecisionTreeClassifier(), bootstrap=False, random_state=0, oob_score=False)\n",
    "\n",
    "paste_dtree1.fit(X_train,y_train)\n",
    "\n",
    "print(f'Train score is {paste_dtree1.score(X_train,y_train)}')\n",
    "print(f'Test score is {paste_dtree1.score(X_test,y_test)}')"
   ]
  },
  {
   "cell_type": "code",
   "execution_count": 42,
   "metadata": {},
   "outputs": [],
   "source": [
    "ensemble_report['ModelName']['5'] = 'Decision Tree pasting Classifier'\n",
    "ensemble_report['TrainScore']['5'] = paste_dtree1.score(X_train,y_train)\n",
    "ensemble_report['TestScore']['5'] = paste_dtree1.score(X_test,y_test)"
   ]
  },
  {
   "cell_type": "markdown",
   "metadata": {},
   "source": [
    "## Ada boost"
   ]
  },
  {
   "cell_type": "markdown",
   "metadata": {},
   "source": [
    "### Ada boost Decision tree"
   ]
  },
  {
   "cell_type": "code",
   "execution_count": 43,
   "metadata": {},
   "outputs": [
    {
     "name": "stdout",
     "output_type": "stream",
     "text": [
      "Train score is 0.9193341869398207\n",
      "Test score is 0.6159203980099502\n"
     ]
    }
   ],
   "source": [
    "from sklearn.ensemble import AdaBoostClassifier\n",
    "adc_dtree =AdaBoostClassifier(base_estimator=DecisionTreeClassifier(),random_state=42)\n",
    "\n",
    "adc_dtree.fit(X_train,y_train)\n",
    "\n",
    "print(f'Train score is {adc_dtree.score(X_train,y_train)}')\n",
    "print(f'Test score is {adc_dtree.score(X_test,y_test)}')"
   ]
  },
  {
   "cell_type": "code",
   "execution_count": 44,
   "metadata": {},
   "outputs": [],
   "source": [
    "ensemble_report['ModelName']['6'] = 'Decision Tree pasting Classifier'\n",
    "ensemble_report['TrainScore']['6'] = adc_dtree.score(X_train,y_train)\n",
    "ensemble_report['TestScore']['6'] = adc_dtree.score(X_test,y_test)"
   ]
  },
  {
   "cell_type": "markdown",
   "metadata": {},
   "source": [
    "### Ada boost with SVC"
   ]
  },
  {
   "cell_type": "code",
   "execution_count": 45,
   "metadata": {},
   "outputs": [
    {
     "name": "stdout",
     "output_type": "stream",
     "text": [
      "Train score is 0.5249679897567221\n",
      "Test score is 0.4835820895522388\n"
     ]
    }
   ],
   "source": [
    "adc_svc =AdaBoostClassifier(base_estimator=SVC(gamma='auto'),random_state=42, algorithm='SAMME')\n",
    "\n",
    "adc_svc.fit(X_train,y_train)\n",
    "\n",
    "print(f'Train score is {adc_svc.score(X_train,y_train)}')\n",
    "print(f'Test score is {adc_svc.score(X_test,y_test)}')"
   ]
  },
  {
   "cell_type": "code",
   "execution_count": 46,
   "metadata": {},
   "outputs": [],
   "source": [
    "ensemble_report['ModelName']['7'] = 'Decision Tree pasting Classifier'\n",
    "ensemble_report['TrainScore']['7'] = adc_svc.score(X_train,y_train)\n",
    "ensemble_report['TestScore']['7'] = adc_svc.score(X_test,y_test)"
   ]
  },
  {
   "cell_type": "markdown",
   "metadata": {},
   "source": [
    "## Gradient boost"
   ]
  },
  {
   "cell_type": "code",
   "execution_count": 47,
   "metadata": {},
   "outputs": [
    {
     "name": "stdout",
     "output_type": "stream",
     "text": [
      "Train score is 0.725138711054204\n",
      "Test score is 0.6776119402985075\n"
     ]
    }
   ],
   "source": [
    "from  sklearn.ensemble import GradientBoostingClassifier\n",
    "gbc= GradientBoostingClassifier(random_state=42)\n",
    "\n",
    "gbc.fit(X_train,y_train)\n",
    "print(f'Train score is {gbc.score(X_train,y_train)}')\n",
    "print(f'Test score is {gbc.score(X_test,y_test)}')"
   ]
  },
  {
   "cell_type": "code",
   "execution_count": 48,
   "metadata": {},
   "outputs": [],
   "source": [
    "ensemble_report['ModelName']['8'] = 'Gradient boosting Classifier'\n",
    "ensemble_report['TrainScore']['8'] = gbc.score(X_train,y_train)\n",
    "ensemble_report['TestScore']['8'] = gbc.score(X_test,y_test)"
   ]
  },
  {
   "cell_type": "markdown",
   "metadata": {},
   "source": [
    "## Deep learning Model - Classification"
   ]
  },
  {
   "cell_type": "code",
   "execution_count": 49,
   "metadata": {},
   "outputs": [
    {
     "name": "stderr",
     "output_type": "stream",
     "text": [
      "Using TensorFlow backend.\n"
     ]
    }
   ],
   "source": [
    "from keras.models import Sequential\n",
    "from keras.layers import Dense\n",
    "import numpy"
   ]
  },
  {
   "cell_type": "code",
   "execution_count": 50,
   "metadata": {},
   "outputs": [
    {
     "name": "stdout",
     "output_type": "stream",
     "text": [
      "WARNING:tensorflow:From D:\\Users\\hvard\\Anaconda3\\lib\\site-packages\\tensorflow\\python\\ops\\resource_variable_ops.py:435: colocate_with (from tensorflow.python.framework.ops) is deprecated and will be removed in a future version.\n",
      "Instructions for updating:\n",
      "Colocations handled automatically by placer.\n"
     ]
    }
   ],
   "source": [
    "model = Sequential()\n",
    "model.add(Dense(12, input_dim=X_train.shape[1], activation='relu'))\n",
    "model.add(Dense(8, activation='relu'))\n",
    "model.add(Dense(1, activation='sigmoid'))"
   ]
  },
  {
   "cell_type": "code",
   "execution_count": 51,
   "metadata": {},
   "outputs": [],
   "source": [
    "model.compile(loss='binary_crossentropy', optimizer='adam', metrics=['accuracy'])"
   ]
  },
  {
   "cell_type": "code",
   "execution_count": 52,
   "metadata": {},
   "outputs": [
    {
     "name": "stdout",
     "output_type": "stream",
     "text": [
      "WARNING:tensorflow:From D:\\Users\\hvard\\Anaconda3\\lib\\site-packages\\tensorflow\\python\\ops\\math_ops.py:3066: to_int32 (from tensorflow.python.ops.math_ops) is deprecated and will be removed in a future version.\n",
      "Instructions for updating:\n",
      "Use tf.cast instead.\n",
      "Epoch 1/150\n",
      "2343/2343 [==============================] - 1s 281us/step - loss: 0.6879 - accuracy: 0.5510\n",
      "Epoch 2/150\n",
      "2343/2343 [==============================] - 0s 113us/step - loss: 0.6468 - accuracy: 0.6607\n",
      "Epoch 3/150\n",
      "2343/2343 [==============================] - 0s 115us/step - loss: 0.6136 - accuracy: 0.6765\n",
      "Epoch 4/150\n",
      "2343/2343 [==============================] - 0s 114us/step - loss: 0.5879 - accuracy: 0.6884\n",
      "Epoch 5/150\n",
      "2343/2343 [==============================] - 0s 109us/step - loss: 0.5783 - accuracy: 0.6914\n",
      "Epoch 6/150\n",
      "2343/2343 [==============================] - 0s 111us/step - loss: 0.5717 - accuracy: 0.7059\n",
      "Epoch 7/150\n",
      "2343/2343 [==============================] - 0s 128us/step - loss: 0.5673 - accuracy: 0.7068\n",
      "Epoch 8/150\n",
      "2343/2343 [==============================] - 0s 134us/step - loss: 0.5637 - accuracy: 0.7098\n",
      "Epoch 9/150\n",
      "2343/2343 [==============================] - 0s 131us/step - loss: 0.5604 - accuracy: 0.7119\n",
      "Epoch 10/150\n",
      "2343/2343 [==============================] - 0s 130us/step - loss: 0.5581 - accuracy: 0.7166\n",
      "Epoch 11/150\n",
      "2343/2343 [==============================] - 0s 140us/step - loss: 0.5564 - accuracy: 0.7157\n",
      "Epoch 12/150\n",
      "2343/2343 [==============================] - 0s 136us/step - loss: 0.5537 - accuracy: 0.7140\n",
      "Epoch 13/150\n",
      "2343/2343 [==============================] - 0s 134us/step - loss: 0.5511 - accuracy: 0.7064\n",
      "Epoch 14/150\n",
      "2343/2343 [==============================] - 0s 134us/step - loss: 0.5494 - accuracy: 0.7200\n",
      "Epoch 15/150\n",
      "2343/2343 [==============================] - 0s 171us/step - loss: 0.5478 - accuracy: 0.7234\n",
      "Epoch 16/150\n",
      "2343/2343 [==============================] - 0s 166us/step - loss: 0.5459 - accuracy: 0.7196\n",
      "Epoch 17/150\n",
      "2343/2343 [==============================] - 0s 155us/step - loss: 0.5439 - accuracy: 0.7187\n",
      "Epoch 18/150\n",
      "2343/2343 [==============================] - 0s 154us/step - loss: 0.5423 - accuracy: 0.7204\n",
      "Epoch 19/150\n",
      "2343/2343 [==============================] - 0s 142us/step - loss: 0.5413 - accuracy: 0.7179\n",
      "Epoch 20/150\n",
      "2343/2343 [==============================] - 0s 130us/step - loss: 0.5395 - accuracy: 0.7226\n",
      "Epoch 21/150\n",
      "2343/2343 [==============================] - 0s 122us/step - loss: 0.5369 - accuracy: 0.7192\n",
      "Epoch 22/150\n",
      "2343/2343 [==============================] - 0s 135us/step - loss: 0.5359 - accuracy: 0.7260\n",
      "Epoch 23/150\n",
      "2343/2343 [==============================] - 0s 125us/step - loss: 0.5341 - accuracy: 0.7230\n",
      "Epoch 24/150\n",
      "2343/2343 [==============================] - 0s 125us/step - loss: 0.5323 - accuracy: 0.7243\n",
      "Epoch 25/150\n",
      "2343/2343 [==============================] - 0s 129us/step - loss: 0.5312 - accuracy: 0.7256\n",
      "Epoch 26/150\n",
      "2343/2343 [==============================] - 0s 131us/step - loss: 0.5286 - accuracy: 0.7281\n",
      "Epoch 27/150\n",
      "2343/2343 [==============================] - 0s 128us/step - loss: 0.5274 - accuracy: 0.7294\n",
      "Epoch 28/150\n",
      "2343/2343 [==============================] - 0s 127us/step - loss: 0.5260 - accuracy: 0.7260\n",
      "Epoch 29/150\n",
      "2343/2343 [==============================] - 0s 136us/step - loss: 0.5264 - accuracy: 0.7243\n",
      "Epoch 30/150\n",
      "2343/2343 [==============================] - 0s 129us/step - loss: 0.5234 - accuracy: 0.7268\n",
      "Epoch 31/150\n",
      "2343/2343 [==============================] - 0s 128us/step - loss: 0.5226 - accuracy: 0.7311\n",
      "Epoch 32/150\n",
      "2343/2343 [==============================] - 0s 140us/step - loss: 0.5199 - accuracy: 0.7320\n",
      "Epoch 33/150\n",
      "2343/2343 [==============================] - 0s 167us/step - loss: 0.5189 - accuracy: 0.7367\n",
      "Epoch 34/150\n",
      "2343/2343 [==============================] - 0s 169us/step - loss: 0.5187 - accuracy: 0.7341\n",
      "Epoch 35/150\n",
      "2343/2343 [==============================] - 0s 149us/step - loss: 0.5169 - accuracy: 0.7375\n",
      "Epoch 36/150\n",
      "2343/2343 [==============================] - 0s 129us/step - loss: 0.5152 - accuracy: 0.7337\n",
      "Epoch 37/150\n",
      "2343/2343 [==============================] - 0s 136us/step - loss: 0.5150 - accuracy: 0.7315\n",
      "Epoch 38/150\n",
      "2343/2343 [==============================] - 0s 174us/step - loss: 0.5122 - accuracy: 0.7345\n",
      "Epoch 39/150\n",
      "2343/2343 [==============================] - 0s 158us/step - loss: 0.5118 - accuracy: 0.7350\n",
      "Epoch 40/150\n",
      "2343/2343 [==============================] - 0s 166us/step - loss: 0.5105 - accuracy: 0.7345\n",
      "Epoch 41/150\n",
      "2343/2343 [==============================] - 0s 122us/step - loss: 0.5092 - accuracy: 0.7401\n",
      "Epoch 42/150\n",
      "2343/2343 [==============================] - 0s 122us/step - loss: 0.5078 - accuracy: 0.7397\n",
      "Epoch 43/150\n",
      "2343/2343 [==============================] - 0s 126us/step - loss: 0.5070 - accuracy: 0.7392\n",
      "Epoch 44/150\n",
      "2343/2343 [==============================] - 0s 143us/step - loss: 0.5048 - accuracy: 0.7473\n",
      "Epoch 45/150\n",
      "2343/2343 [==============================] - 0s 145us/step - loss: 0.5051 - accuracy: 0.74050s - loss: 0.5041 - accu\n",
      "Epoch 46/150\n",
      "2343/2343 [==============================] - 0s 142us/step - loss: 0.5032 - accuracy: 0.7409\n",
      "Epoch 47/150\n",
      "2343/2343 [==============================] - 0s 130us/step - loss: 0.5028 - accuracy: 0.7384\n",
      "Epoch 48/150\n",
      "2343/2343 [==============================] - 0s 120us/step - loss: 0.5010 - accuracy: 0.7448\n",
      "Epoch 49/150\n",
      "2343/2343 [==============================] - 0s 120us/step - loss: 0.5001 - accuracy: 0.7495\n",
      "Epoch 50/150\n",
      "2343/2343 [==============================] - 0s 125us/step - loss: 0.4988 - accuracy: 0.7439\n",
      "Epoch 51/150\n",
      "2343/2343 [==============================] - 0s 117us/step - loss: 0.4971 - accuracy: 0.7431\n",
      "Epoch 52/150\n",
      "2343/2343 [==============================] - 0s 121us/step - loss: 0.4962 - accuracy: 0.7426\n",
      "Epoch 53/150\n",
      "2343/2343 [==============================] - 0s 120us/step - loss: 0.4964 - accuracy: 0.7486\n",
      "Epoch 54/150\n",
      "2343/2343 [==============================] - 0s 122us/step - loss: 0.4951 - accuracy: 0.7499\n",
      "Epoch 55/150\n",
      "2343/2343 [==============================] - 0s 118us/step - loss: 0.4942 - accuracy: 0.7499\n",
      "Epoch 56/150\n",
      "2343/2343 [==============================] - 0s 117us/step - loss: 0.4941 - accuracy: 0.7490\n",
      "Epoch 57/150\n",
      "2343/2343 [==============================] - 0s 128us/step - loss: 0.4922 - accuracy: 0.7499\n",
      "Epoch 58/150\n",
      "2343/2343 [==============================] - 0s 120us/step - loss: 0.4912 - accuracy: 0.7512\n",
      "Epoch 59/150\n",
      "2343/2343 [==============================] - 0s 125us/step - loss: 0.4907 - accuracy: 0.7546\n",
      "Epoch 60/150\n",
      "2343/2343 [==============================] - 0s 120us/step - loss: 0.4898 - accuracy: 0.7478\n",
      "Epoch 61/150\n",
      "2343/2343 [==============================] - 0s 131us/step - loss: 0.4889 - accuracy: 0.7520\n",
      "Epoch 62/150\n",
      "2343/2343 [==============================] - 0s 123us/step - loss: 0.4897 - accuracy: 0.7469\n",
      "Epoch 63/150\n",
      "2343/2343 [==============================] - 0s 123us/step - loss: 0.4870 - accuracy: 0.7589\n",
      "Epoch 64/150\n",
      "2343/2343 [==============================] - 0s 131us/step - loss: 0.4865 - accuracy: 0.7554\n",
      "Epoch 65/150\n",
      "2343/2343 [==============================] - 0s 123us/step - loss: 0.4866 - accuracy: 0.7567\n",
      "Epoch 66/150\n",
      "2343/2343 [==============================] - 0s 125us/step - loss: 0.4842 - accuracy: 0.7550\n",
      "Epoch 67/150\n",
      "2343/2343 [==============================] - 0s 194us/step - loss: 0.4840 - accuracy: 0.7533\n",
      "Epoch 68/150\n",
      "2343/2343 [==============================] - 0s 201us/step - loss: 0.4826 - accuracy: 0.7614\n",
      "Epoch 69/150\n",
      "2343/2343 [==============================] - 0s 212us/step - loss: 0.4817 - accuracy: 0.7670\n",
      "Epoch 70/150\n",
      "2343/2343 [==============================] - 0s 203us/step - loss: 0.4820 - accuracy: 0.7593\n",
      "Epoch 71/150\n",
      "2343/2343 [==============================] - 1s 225us/step - loss: 0.4798 - accuracy: 0.7589\n",
      "Epoch 72/150\n",
      "2343/2343 [==============================] - 1s 217us/step - loss: 0.4808 - accuracy: 0.7657\n",
      "Epoch 73/150\n",
      "2343/2343 [==============================] - 0s 188us/step - loss: 0.4789 - accuracy: 0.7614\n",
      "Epoch 74/150\n",
      "2343/2343 [==============================] - 0s 175us/step - loss: 0.4793 - accuracy: 0.7537\n",
      "Epoch 75/150\n",
      "2343/2343 [==============================] - 0s 158us/step - loss: 0.4767 - accuracy: 0.7584\n",
      "Epoch 76/150\n",
      "2343/2343 [==============================] - 0s 175us/step - loss: 0.4765 - accuracy: 0.7559\n",
      "Epoch 77/150\n",
      "2343/2343 [==============================] - 0s 153us/step - loss: 0.4756 - accuracy: 0.7606\n",
      "Epoch 78/150\n",
      "2343/2343 [==============================] - 0s 145us/step - loss: 0.4756 - accuracy: 0.7593\n",
      "Epoch 79/150\n",
      "2343/2343 [==============================] - 0s 170us/step - loss: 0.4749 - accuracy: 0.7653\n",
      "Epoch 80/150\n",
      "2343/2343 [==============================] - 0s 152us/step - loss: 0.4723 - accuracy: 0.7614\n",
      "Epoch 81/150\n",
      "2343/2343 [==============================] - 0s 166us/step - loss: 0.4725 - accuracy: 0.7631\n",
      "Epoch 82/150\n",
      "2343/2343 [==============================] - 0s 160us/step - loss: 0.4722 - accuracy: 0.7584\n",
      "Epoch 83/150\n",
      "2343/2343 [==============================] - 0s 141us/step - loss: 0.4714 - accuracy: 0.7636\n",
      "Epoch 84/150\n",
      "2343/2343 [==============================] - 0s 151us/step - loss: 0.4712 - accuracy: 0.76610s - loss: 0.4455 - accu\n",
      "Epoch 85/150\n",
      "2343/2343 [==============================] - 0s 136us/step - loss: 0.4694 - accuracy: 0.7631\n",
      "Epoch 86/150\n",
      "2343/2343 [==============================] - 0s 183us/step - loss: 0.4696 - accuracy: 0.7610\n",
      "Epoch 87/150\n",
      "2343/2343 [==============================] - 0s 166us/step - loss: 0.4701 - accuracy: 0.7648\n",
      "Epoch 88/150\n",
      "2343/2343 [==============================] - 0s 157us/step - loss: 0.4685 - accuracy: 0.7640\n",
      "Epoch 89/150\n",
      "2343/2343 [==============================] - 0s 155us/step - loss: 0.4678 - accuracy: 0.7606\n",
      "Epoch 90/150\n",
      "2343/2343 [==============================] - 0s 131us/step - loss: 0.4677 - accuracy: 0.7610\n",
      "Epoch 91/150\n",
      "2343/2343 [==============================] - 0s 144us/step - loss: 0.4674 - accuracy: 0.7614\n",
      "Epoch 92/150\n",
      "2343/2343 [==============================] - 0s 169us/step - loss: 0.4673 - accuracy: 0.7665\n",
      "Epoch 93/150\n",
      "2343/2343 [==============================] - 0s 160us/step - loss: 0.4662 - accuracy: 0.7606\n",
      "Epoch 94/150\n",
      "2343/2343 [==============================] - 0s 161us/step - loss: 0.4657 - accuracy: 0.7636\n",
      "Epoch 95/150\n",
      "2343/2343 [==============================] - 0s 139us/step - loss: 0.4653 - accuracy: 0.7640\n",
      "Epoch 96/150\n",
      "2343/2343 [==============================] - 0s 131us/step - loss: 0.4653 - accuracy: 0.7644\n",
      "Epoch 97/150\n",
      "2343/2343 [==============================] - 0s 139us/step - loss: 0.4649 - accuracy: 0.7657\n",
      "Epoch 98/150\n",
      "2343/2343 [==============================] - 0s 146us/step - loss: 0.4622 - accuracy: 0.76820s - loss: 0.4257 - accu\n",
      "Epoch 99/150\n",
      "2343/2343 [==============================] - 0s 134us/step - loss: 0.4652 - accuracy: 0.7687\n",
      "Epoch 100/150\n",
      "2343/2343 [==============================] - 0s 140us/step - loss: 0.4631 - accuracy: 0.7687\n",
      "Epoch 101/150\n",
      "2343/2343 [==============================] - 0s 180us/step - loss: 0.4620 - accuracy: 0.7661\n",
      "Epoch 102/150\n",
      "2343/2343 [==============================] - 0s 158us/step - loss: 0.4638 - accuracy: 0.7614\n",
      "Epoch 103/150\n",
      "2343/2343 [==============================] - 0s 135us/step - loss: 0.4623 - accuracy: 0.7618\n",
      "Epoch 104/150\n",
      "2343/2343 [==============================] - 0s 129us/step - loss: 0.4615 - accuracy: 0.7695\n",
      "Epoch 105/150\n",
      "2343/2343 [==============================] - 0s 126us/step - loss: 0.4606 - accuracy: 0.7636\n",
      "Epoch 106/150\n",
      "2343/2343 [==============================] - 0s 129us/step - loss: 0.4605 - accuracy: 0.7665\n",
      "Epoch 107/150\n",
      "2343/2343 [==============================] - 0s 145us/step - loss: 0.4602 - accuracy: 0.7674\n",
      "Epoch 108/150\n",
      "2343/2343 [==============================] - 0s 143us/step - loss: 0.4588 - accuracy: 0.7721\n",
      "Epoch 109/150\n",
      "2343/2343 [==============================] - 0s 157us/step - loss: 0.4588 - accuracy: 0.7691\n",
      "Epoch 110/150\n",
      "2343/2343 [==============================] - 0s 125us/step - loss: 0.4576 - accuracy: 0.7636\n",
      "Epoch 111/150\n",
      "2343/2343 [==============================] - 0s 126us/step - loss: 0.4586 - accuracy: 0.7708\n",
      "Epoch 112/150\n",
      "2343/2343 [==============================] - 0s 131us/step - loss: 0.4567 - accuracy: 0.7717\n",
      "Epoch 113/150\n",
      "2343/2343 [==============================] - 0s 132us/step - loss: 0.4557 - accuracy: 0.7678\n",
      "Epoch 114/150\n",
      "2343/2343 [==============================] - 0s 129us/step - loss: 0.4560 - accuracy: 0.7700\n",
      "Epoch 115/150\n",
      "2343/2343 [==============================] - 0s 127us/step - loss: 0.4563 - accuracy: 0.7674\n",
      "Epoch 116/150\n",
      "2343/2343 [==============================] - 0s 136us/step - loss: 0.4567 - accuracy: 0.7729\n",
      "Epoch 117/150\n",
      "2343/2343 [==============================] - 0s 127us/step - loss: 0.4556 - accuracy: 0.7704\n",
      "Epoch 118/150\n",
      "2343/2343 [==============================] - 0s 128us/step - loss: 0.4539 - accuracy: 0.7687\n",
      "Epoch 119/150\n",
      "2343/2343 [==============================] - 0s 131us/step - loss: 0.4546 - accuracy: 0.7734\n",
      "Epoch 120/150\n",
      "2343/2343 [==============================] - 0s 126us/step - loss: 0.4529 - accuracy: 0.7708\n",
      "Epoch 121/150\n",
      "2343/2343 [==============================] - 0s 123us/step - loss: 0.4531 - accuracy: 0.7712\n",
      "Epoch 122/150\n",
      "2343/2343 [==============================] - 0s 130us/step - loss: 0.4538 - accuracy: 0.7712\n",
      "Epoch 123/150\n",
      "2343/2343 [==============================] - 0s 130us/step - loss: 0.4540 - accuracy: 0.7661\n",
      "Epoch 124/150\n",
      "2343/2343 [==============================] - 0s 138us/step - loss: 0.4510 - accuracy: 0.7687\n",
      "Epoch 125/150\n",
      "2343/2343 [==============================] - 0s 139us/step - loss: 0.4504 - accuracy: 0.7759\n",
      "Epoch 126/150\n",
      "2343/2343 [==============================] - 0s 130us/step - loss: 0.4508 - accuracy: 0.7742\n",
      "Epoch 127/150\n",
      "2343/2343 [==============================] - 0s 134us/step - loss: 0.4499 - accuracy: 0.7734\n",
      "Epoch 128/150\n",
      "2343/2343 [==============================] - 0s 132us/step - loss: 0.4502 - accuracy: 0.7776\n",
      "Epoch 129/150\n",
      "2343/2343 [==============================] - 0s 137us/step - loss: 0.4490 - accuracy: 0.7687\n",
      "Epoch 130/150\n",
      "2343/2343 [==============================] - 0s 138us/step - loss: 0.4496 - accuracy: 0.7700\n",
      "Epoch 131/150\n",
      "2343/2343 [==============================] - 0s 135us/step - loss: 0.4486 - accuracy: 0.7712\n",
      "Epoch 132/150\n",
      "2343/2343 [==============================] - 0s 145us/step - loss: 0.4473 - accuracy: 0.7742\n",
      "Epoch 133/150\n",
      "2343/2343 [==============================] - 0s 133us/step - loss: 0.4477 - accuracy: 0.7729\n",
      "Epoch 134/150\n",
      "2343/2343 [==============================] - 0s 131us/step - loss: 0.4464 - accuracy: 0.7746\n",
      "Epoch 135/150\n",
      "2343/2343 [==============================] - 0s 136us/step - loss: 0.4460 - accuracy: 0.7815\n",
      "Epoch 136/150\n",
      "2343/2343 [==============================] - 0s 165us/step - loss: 0.4447 - accuracy: 0.7759\n",
      "Epoch 137/150\n",
      "2343/2343 [==============================] - 0s 125us/step - loss: 0.4449 - accuracy: 0.7810\n",
      "Epoch 138/150\n",
      "2343/2343 [==============================] - 0s 135us/step - loss: 0.4435 - accuracy: 0.7793\n",
      "Epoch 139/150\n",
      "2343/2343 [==============================] - 0s 125us/step - loss: 0.4435 - accuracy: 0.7746\n",
      "Epoch 140/150\n",
      "2343/2343 [==============================] - 0s 126us/step - loss: 0.4427 - accuracy: 0.7802\n",
      "Epoch 141/150\n",
      "2343/2343 [==============================] - 0s 131us/step - loss: 0.4439 - accuracy: 0.7781\n",
      "Epoch 142/150\n",
      "2343/2343 [==============================] - 0s 129us/step - loss: 0.4433 - accuracy: 0.7785\n",
      "Epoch 143/150\n",
      "2343/2343 [==============================] - 0s 130us/step - loss: 0.4437 - accuracy: 0.7738\n",
      "Epoch 144/150\n",
      "2343/2343 [==============================] - 0s 130us/step - loss: 0.4411 - accuracy: 0.7725\n",
      "Epoch 145/150\n",
      "2343/2343 [==============================] - 0s 136us/step - loss: 0.4408 - accuracy: 0.7798\n",
      "Epoch 146/150\n",
      "2343/2343 [==============================] - 0s 124us/step - loss: 0.4416 - accuracy: 0.7789\n",
      "Epoch 147/150\n",
      "2343/2343 [==============================] - 0s 139us/step - loss: 0.4407 - accuracy: 0.7785\n",
      "Epoch 148/150\n",
      "2343/2343 [==============================] - 0s 155us/step - loss: 0.4397 - accuracy: 0.7772\n",
      "Epoch 149/150\n",
      "2343/2343 [==============================] - 0s 129us/step - loss: 0.4400 - accuracy: 0.7806\n",
      "Epoch 150/150\n",
      "2343/2343 [==============================] - 0s 131us/step - loss: 0.4412 - accuracy: 0.7781\n"
     ]
    },
    {
     "data": {
      "text/plain": [
       "<keras.callbacks.callbacks.History at 0x1a2c5853b48>"
      ]
     },
     "execution_count": 52,
     "metadata": {},
     "output_type": "execute_result"
    }
   ],
   "source": [
    "model.fit(X_train, y_train, epochs=150, batch_size=10)"
   ]
  },
  {
   "cell_type": "code",
   "execution_count": 53,
   "metadata": {},
   "outputs": [
    {
     "name": "stdout",
     "output_type": "stream",
     "text": [
      "2343/2343 [==============================] - 0s 52us/step\n",
      "Train score is 0.7836107611656189\n",
      "1005/1005 [==============================] - 0s 15us/step\n",
      "Test score is 0.6278607249259949\n"
     ]
    }
   ],
   "source": [
    "print(f'Train score is {model.evaluate(X_train, y_train)[1]}')\n",
    "print(f'Test score is {model.evaluate(X_test, y_test)[1]}')"
   ]
  },
  {
   "cell_type": "code",
   "execution_count": 54,
   "metadata": {},
   "outputs": [
    {
     "name": "stdout",
     "output_type": "stream",
     "text": [
      "2343/2343 [==============================] - 0s 18us/step\n",
      "1005/1005 [==============================] - 0s 18us/step\n"
     ]
    }
   ],
   "source": [
    "ensemble_report['ModelName']['9'] = 'Deep learning Classifier'\n",
    "ensemble_report['TrainScore']['9'] = model.evaluate(X_train, y_train)[1]\n",
    "ensemble_report['TestScore']['9'] = model.evaluate(X_test, y_test)[1]"
   ]
  },
  {
   "cell_type": "code",
   "execution_count": 56,
   "metadata": {},
   "outputs": [
    {
     "data": {
      "text/plain": [
       "array([[0],\n",
       "       [0],\n",
       "       [1],\n",
       "       ...,\n",
       "       [0],\n",
       "       [0],\n",
       "       [1]])"
      ]
     },
     "execution_count": 56,
     "metadata": {},
     "output_type": "execute_result"
    }
   ],
   "source": [
    "y_predict = model.predict_classes(X_test)\n",
    "y_predict"
   ]
  },
  {
   "cell_type": "markdown",
   "metadata": {},
   "source": [
    "## Overview"
   ]
  },
  {
   "cell_type": "code",
   "execution_count": 80,
   "metadata": {},
   "outputs": [
    {
     "data": {
      "text/html": [
       "<div>\n",
       "<style scoped>\n",
       "    .dataframe tbody tr th:only-of-type {\n",
       "        vertical-align: middle;\n",
       "    }\n",
       "\n",
       "    .dataframe tbody tr th {\n",
       "        vertical-align: top;\n",
       "    }\n",
       "\n",
       "    .dataframe thead th {\n",
       "        text-align: right;\n",
       "    }\n",
       "</style>\n",
       "<table border=\"1\" class=\"dataframe\">\n",
       "  <thead>\n",
       "    <tr style=\"text-align: right;\">\n",
       "      <th></th>\n",
       "      <th>ModelName</th>\n",
       "      <th>TrainScore</th>\n",
       "      <th>TestScore</th>\n",
       "    </tr>\n",
       "  </thead>\n",
       "  <tbody>\n",
       "    <tr>\n",
       "      <th>0</th>\n",
       "      <td>Hard voting Classifier</td>\n",
       "      <td>0.795134</td>\n",
       "      <td>0.663682</td>\n",
       "    </tr>\n",
       "    <tr>\n",
       "      <th>1</th>\n",
       "      <td>Soft voting Classifier</td>\n",
       "      <td>0.714469</td>\n",
       "      <td>0.655721</td>\n",
       "    </tr>\n",
       "    <tr>\n",
       "      <th>2</th>\n",
       "      <td>SVC Bagging Classifier</td>\n",
       "      <td>0.69697</td>\n",
       "      <td>0.708458</td>\n",
       "    </tr>\n",
       "    <tr>\n",
       "      <th>3</th>\n",
       "      <td>Decision Tree Bagging Classifier</td>\n",
       "      <td>0.908237</td>\n",
       "      <td>0.625871</td>\n",
       "    </tr>\n",
       "    <tr>\n",
       "      <th>4</th>\n",
       "      <td>SVC pasting Classifier</td>\n",
       "      <td>0.679471</td>\n",
       "      <td>0.695522</td>\n",
       "    </tr>\n",
       "    <tr>\n",
       "      <th>5</th>\n",
       "      <td>Decision Tree pasting Classifier</td>\n",
       "      <td>0.919334</td>\n",
       "      <td>0.59801</td>\n",
       "    </tr>\n",
       "    <tr>\n",
       "      <th>6</th>\n",
       "      <td>Decision Tree pasting Classifier</td>\n",
       "      <td>0.919334</td>\n",
       "      <td>0.61592</td>\n",
       "    </tr>\n",
       "    <tr>\n",
       "      <th>7</th>\n",
       "      <td>Decision Tree pasting Classifier</td>\n",
       "      <td>0.524968</td>\n",
       "      <td>0.483582</td>\n",
       "    </tr>\n",
       "    <tr>\n",
       "      <th>8</th>\n",
       "      <td>Gradient boosting Classifier</td>\n",
       "      <td>0.725139</td>\n",
       "      <td>0.677612</td>\n",
       "    </tr>\n",
       "    <tr>\n",
       "      <th>9</th>\n",
       "      <td>Deep learning Classifier</td>\n",
       "      <td>0.783611</td>\n",
       "      <td>0.627861</td>\n",
       "    </tr>\n",
       "  </tbody>\n",
       "</table>\n",
       "</div>"
      ],
      "text/plain": [
       "                          ModelName TrainScore TestScore\n",
       "0            Hard voting Classifier   0.795134  0.663682\n",
       "1            Soft voting Classifier   0.714469  0.655721\n",
       "2            SVC Bagging Classifier    0.69697  0.708458\n",
       "3  Decision Tree Bagging Classifier   0.908237  0.625871\n",
       "4            SVC pasting Classifier   0.679471  0.695522\n",
       "5  Decision Tree pasting Classifier   0.919334   0.59801\n",
       "6  Decision Tree pasting Classifier   0.919334   0.61592\n",
       "7  Decision Tree pasting Classifier   0.524968  0.483582\n",
       "8      Gradient boosting Classifier   0.725139  0.677612\n",
       "9          Deep learning Classifier   0.783611  0.627861"
      ]
     },
     "execution_count": 80,
     "metadata": {},
     "output_type": "execute_result"
    }
   ],
   "source": [
    "ensemble_report"
   ]
  },
  {
   "cell_type": "markdown",
   "metadata": {},
   "source": [
    "`With this dataset, we get the best accuracy score when we use SVC Bagging Classifier`"
   ]
  },
  {
   "cell_type": "markdown",
   "metadata": {},
   "source": [
    "## PCA"
   ]
  },
  {
   "cell_type": "markdown",
   "metadata": {},
   "source": [
    "### Preprocess data for PCA"
   ]
  },
  {
   "cell_type": "code",
   "execution_count": 57,
   "metadata": {},
   "outputs": [],
   "source": [
    "# Preprocess data for PCA\n",
    "bank_pipe.fit(X, y)\n",
    "X_clean = bank_pipe.transform(X)\n",
    "scaler = RobustScaler()\n",
    "scaler.fit(X_clean)\n",
    "X_scaled = scaler.transform(X_clean)"
   ]
  },
  {
   "cell_type": "code",
   "execution_count": 58,
   "metadata": {},
   "outputs": [
    {
     "data": {
      "text/plain": [
       "array([4.59310296e-01, 1.54677506e-01, 9.40435605e-02, 6.22684745e-02,\n",
       "       4.51494179e-02, 3.52690611e-02, 2.32540708e-02, 1.91171632e-02,\n",
       "       1.70315489e-02, 1.21172612e-02, 1.05433731e-02, 9.81580798e-03,\n",
       "       9.16291575e-03, 8.29549645e-03, 6.97579360e-03, 5.10286776e-03,\n",
       "       4.50464077e-03, 4.13963189e-03, 3.38305642e-03, 2.81311403e-03,\n",
       "       2.52861908e-03, 2.17272568e-03, 2.09020876e-03, 1.85014246e-03,\n",
       "       1.72978243e-03, 1.23827453e-03, 8.39773961e-04, 5.14563242e-04,\n",
       "       6.08525721e-05])"
      ]
     },
     "execution_count": 58,
     "metadata": {},
     "output_type": "execute_result"
    }
   ],
   "source": [
    "# Get our explained variance ratios from PCA using all features\n",
    "from sklearn.decomposition import PCA\n",
    "pca = PCA()\n",
    "pca.fit(X_scaled)\n",
    "exp_variance = pca.explained_variance_ratio_\n",
    "(exp_variance)"
   ]
  },
  {
   "cell_type": "code",
   "execution_count": 59,
   "metadata": {},
   "outputs": [
    {
     "data": {
      "image/png": "[encoded data removed]",
      "text/plain": [
       "<Figure size 432x288 with 1 Axes>"
      ]
     },
     "metadata": {
      "needs_background": "light"
     },
     "output_type": "display_data"
    }
   ],
   "source": [
    "# plot the explained variance using a barplot\n",
    "fig, ax = plt.subplots()\n",
    "ax.bar(range(pca.n_components_),exp_variance)\n",
    "ax.set_xlabel('Principal Component #')\n",
    "ax.set_title('Scree plot')\n",
    "plt.show()"
   ]
  },
  {
   "cell_type": "code",
   "execution_count": 60,
   "metadata": {},
   "outputs": [
    {
     "data": {
      "text/plain": [
       "array([0.4593103 , 0.6139878 , 0.70803136, 0.77029984, 0.81544925,\n",
       "       0.85071832, 0.87397239, 0.89308955, 0.9101211 , 0.92223836,\n",
       "       0.93278173, 0.94259754, 0.95176046, 0.96005595, 0.96703175,\n",
       "       0.97213461, 0.97663925, 0.98077889, 0.98416194, 0.98697506,\n",
       "       0.98950368, 0.9916764 , 0.99376661, 0.99561675, 0.99734654,\n",
       "       0.99858481, 0.99942458, 0.99993915, 1.        ])"
      ]
     },
     "execution_count": 60,
     "metadata": {},
     "output_type": "execute_result"
    }
   ],
   "source": [
    "# Calculate the cumulative explained variance\n",
    "cum_exp_variance = np.cumsum(exp_variance)\n",
    "cum_exp_variance"
   ]
  },
  {
   "cell_type": "code",
   "execution_count": 61,
   "metadata": {},
   "outputs": [
    {
     "data": {
      "image/png": "[encoded data removed]",
      "text/plain": [
       "<Figure size 432x288 with 1 Axes>"
      ]
     },
     "metadata": {
      "needs_background": "light"
     },
     "output_type": "display_data"
    }
   ],
   "source": [
    "# plotting cumulative explained variance and the threshold at 0.9\n",
    "fig, ax = plt.subplots()\n",
    "ax.plot(range(len(cum_exp_variance)),cum_exp_variance)\n",
    "ax.axhline(y=0.9, linestyle='--')\n",
    "plt.show()"
   ]
  },
  {
   "cell_type": "code",
   "execution_count": 62,
   "metadata": {},
   "outputs": [],
   "source": [
    "# From the graph we see that the curve is approx. at 5. It's better to take 7 to be sure\n",
    "n_components = 8\n",
    "# Perform PCA with the chosen number of components and project data onto components\n",
    "pca = PCA(n_components, random_state=10)\n",
    "pca.fit(X_scaled)\n",
    "pca_projection = pca.transform(X_scaled)"
   ]
  },
  {
   "cell_type": "code",
   "execution_count": 63,
   "metadata": {},
   "outputs": [],
   "source": [
    "# Split the PCA projection into train and test data\n",
    "X_train_pca, X_test_pca, y_train_pca, y_test_pca = train_test_split(pca_projection,y,test_size=0.3,random_state=0)"
   ]
  },
  {
   "cell_type": "code",
   "execution_count": 64,
   "metadata": {},
   "outputs": [],
   "source": [
    "y_train_pca = y_train_pca.values.ravel()\n",
    "y_test_pca = y_test_pca.values.ravel()"
   ]
  },
  {
   "cell_type": "code",
   "execution_count": 65,
   "metadata": {},
   "outputs": [],
   "source": [
    "class_report = pd.DataFrame(index = '0 1 2 3 4'.split(), columns='ModelName TrainScore TestScore Accuracy CVScore'.split())"
   ]
  },
  {
   "cell_type": "markdown",
   "metadata": {},
   "source": [
    "### Kernelized SVM with PCA"
   ]
  },
  {
   "cell_type": "code",
   "execution_count": 66,
   "metadata": {},
   "outputs": [
    {
     "name": "stdout",
     "output_type": "stream",
     "text": [
      "Best Mean Cross-validation score: 0.78\n",
      "\n",
      "Kernelized SVM Best parameters:  {'C': 1, 'kernel': 'linear'}\n",
      "\n",
      "Kernelized SVM Train Performance:  0.7767819035424669\n",
      "Kernelized SVM Test Performance:  0.7562189054726368\n",
      "\n",
      "Accuracy: 0.7562189054726368\n",
      "F1 score: 0.7434554973821988\n",
      "Precision: 0.7304526748971193\n",
      "Recall: 0.7569296375266524\n",
      "ROC_AUC: 0.7562633262260127\n",
      "Confusion Matrix:\n",
      " [[405 131]\n",
      " [114 355]]\n"
     ]
    }
   ],
   "source": [
    "from sklearn.svm import SVC\n",
    "svc = SVC(gamma='auto')\n",
    "param_grid = [{'kernel': ['rbf'],\n",
    "               'C': [0.001, 0.01, 0.1, 1, 10, 100],\n",
    "               'gamma': [0.001, 0.01, 0.1, 1, 10, 100]},\n",
    "              {'kernel': ['linear'],\n",
    "               'C': [0.001, 0.01, 0.1, 1, 10, 100]},\n",
    "              {'kernel': ['poly'],\n",
    "               'degree': [2, 3, 4, 5, 6]}]\n",
    "svm_grid = GridSearchCV(svc, param_grid, cv=5,return_train_score=True,scoring='accuracy')\n",
    "svm_grid.fit(X_train_pca, y_train_pca)\n",
    "\n",
    "# Mean Cross Validation Score\n",
    "print(\"Best Mean Cross-validation score: {:.2f}\".format(svm_grid.best_score_), end='\\n\\n')\n",
    "\n",
    "#find best parameters\n",
    "print('Kernelized SVM Best parameters: ',svm_grid.best_params_, end='\\n\\n')\n",
    "\n",
    "#Check test data set performance\n",
    "print(\"Kernelized SVM Train Performance: \",svm_grid.score(X_train_pca,y_train_pca))\n",
    "print(\"Kernelized SVM Test Performance: \",svm_grid.score(X_test_pca,y_test_pca), end='\\n\\n')\n",
    "\n",
    "\n",
    "prediction = svm_grid.predict(X_test_pca)\n",
    "print(\"Accuracy:\",metrics.accuracy_score(prediction,y_test_pca))\n",
    "print(\"F1 score:\",metrics.f1_score(prediction,y_test_pca))\n",
    "print(\"Precision:\",metrics.precision_score(prediction,y_test_pca))\n",
    "print(\"Recall:\",metrics.recall_score(prediction,y_test_pca))\n",
    "print(\"ROC_AUC:\",metrics.roc_auc_score(prediction,y_test_pca))\n",
    "print(\"Confusion Matrix:\\n\",metrics.confusion_matrix(prediction, y_test_pca))"
   ]
  },
  {
   "cell_type": "code",
   "execution_count": 67,
   "metadata": {},
   "outputs": [],
   "source": [
    "class_report['ModelName']['0'] = 'Kernelized SVM Classifier'\n",
    "class_report['TrainScore']['0'] = svm_grid.score(X_train_pca,y_train_pca)\n",
    "class_report['TestScore']['0'] = svm_grid.score(X_test_pca,y_test_pca)\n",
    "class_report['Accuracy']['0'] = metrics.accuracy_score(prediction,y_test_pca)\n",
    "class_report['CVScore']['0'] = \"{:.2f}\".format(svm_grid.best_score_)"
   ]
  },
  {
   "cell_type": "markdown",
   "metadata": {},
   "source": [
    "### Linear SVM Classifier with PCA"
   ]
  },
  {
   "cell_type": "code",
   "execution_count": 68,
   "metadata": {},
   "outputs": [
    {
     "name": "stderr",
     "output_type": "stream",
     "text": [
      "D:\\Users\\hvard\\Anaconda3\\lib\\site-packages\\sklearn\\svm\\base.py:931: ConvergenceWarning: Liblinear failed to converge, increase the number of iterations.\n",
      "  \"the number of iterations.\", ConvergenceWarning)\n",
      "D:\\Users\\hvard\\Anaconda3\\lib\\site-packages\\sklearn\\svm\\base.py:931: ConvergenceWarning: Liblinear failed to converge, increase the number of iterations.\n",
      "  \"the number of iterations.\", ConvergenceWarning)\n",
      "D:\\Users\\hvard\\Anaconda3\\lib\\site-packages\\sklearn\\svm\\base.py:931: ConvergenceWarning: Liblinear failed to converge, increase the number of iterations.\n",
      "  \"the number of iterations.\", ConvergenceWarning)\n",
      "D:\\Users\\hvard\\Anaconda3\\lib\\site-packages\\sklearn\\svm\\base.py:931: ConvergenceWarning: Liblinear failed to converge, increase the number of iterations.\n",
      "  \"the number of iterations.\", ConvergenceWarning)\n",
      "D:\\Users\\hvard\\Anaconda3\\lib\\site-packages\\sklearn\\svm\\base.py:931: ConvergenceWarning: Liblinear failed to converge, increase the number of iterations.\n",
      "  \"the number of iterations.\", ConvergenceWarning)\n",
      "D:\\Users\\hvard\\Anaconda3\\lib\\site-packages\\sklearn\\svm\\base.py:931: ConvergenceWarning: Liblinear failed to converge, increase the number of iterations.\n",
      "  \"the number of iterations.\", ConvergenceWarning)\n",
      "D:\\Users\\hvard\\Anaconda3\\lib\\site-packages\\sklearn\\svm\\base.py:931: ConvergenceWarning: Liblinear failed to converge, increase the number of iterations.\n",
      "  \"the number of iterations.\", ConvergenceWarning)\n",
      "D:\\Users\\hvard\\Anaconda3\\lib\\site-packages\\sklearn\\svm\\base.py:931: ConvergenceWarning: Liblinear failed to converge, increase the number of iterations.\n",
      "  \"the number of iterations.\", ConvergenceWarning)\n",
      "D:\\Users\\hvard\\Anaconda3\\lib\\site-packages\\sklearn\\svm\\base.py:931: ConvergenceWarning: Liblinear failed to converge, increase the number of iterations.\n",
      "  \"the number of iterations.\", ConvergenceWarning)\n",
      "D:\\Users\\hvard\\Anaconda3\\lib\\site-packages\\sklearn\\svm\\base.py:931: ConvergenceWarning: Liblinear failed to converge, increase the number of iterations.\n",
      "  \"the number of iterations.\", ConvergenceWarning)\n",
      "D:\\Users\\hvard\\Anaconda3\\lib\\site-packages\\sklearn\\svm\\base.py:931: ConvergenceWarning: Liblinear failed to converge, increase the number of iterations.\n",
      "  \"the number of iterations.\", ConvergenceWarning)\n",
      "D:\\Users\\hvard\\Anaconda3\\lib\\site-packages\\sklearn\\svm\\base.py:931: ConvergenceWarning: Liblinear failed to converge, increase the number of iterations.\n",
      "  \"the number of iterations.\", ConvergenceWarning)\n",
      "D:\\Users\\hvard\\Anaconda3\\lib\\site-packages\\sklearn\\svm\\base.py:931: ConvergenceWarning: Liblinear failed to converge, increase the number of iterations.\n",
      "  \"the number of iterations.\", ConvergenceWarning)\n",
      "D:\\Users\\hvard\\Anaconda3\\lib\\site-packages\\sklearn\\svm\\base.py:931: ConvergenceWarning: Liblinear failed to converge, increase the number of iterations.\n",
      "  \"the number of iterations.\", ConvergenceWarning)\n",
      "D:\\Users\\hvard\\Anaconda3\\lib\\site-packages\\sklearn\\svm\\base.py:931: ConvergenceWarning: Liblinear failed to converge, increase the number of iterations.\n",
      "  \"the number of iterations.\", ConvergenceWarning)\n",
      "D:\\Users\\hvard\\Anaconda3\\lib\\site-packages\\sklearn\\svm\\base.py:931: ConvergenceWarning: Liblinear failed to converge, increase the number of iterations.\n",
      "  \"the number of iterations.\", ConvergenceWarning)\n",
      "D:\\Users\\hvard\\Anaconda3\\lib\\site-packages\\sklearn\\svm\\base.py:931: ConvergenceWarning: Liblinear failed to converge, increase the number of iterations.\n",
      "  \"the number of iterations.\", ConvergenceWarning)\n",
      "D:\\Users\\hvard\\Anaconda3\\lib\\site-packages\\sklearn\\svm\\base.py:931: ConvergenceWarning: Liblinear failed to converge, increase the number of iterations.\n",
      "  \"the number of iterations.\", ConvergenceWarning)\n",
      "D:\\Users\\hvard\\Anaconda3\\lib\\site-packages\\sklearn\\svm\\base.py:931: ConvergenceWarning: Liblinear failed to converge, increase the number of iterations.\n",
      "  \"the number of iterations.\", ConvergenceWarning)\n",
      "D:\\Users\\hvard\\Anaconda3\\lib\\site-packages\\sklearn\\svm\\base.py:931: ConvergenceWarning: Liblinear failed to converge, increase the number of iterations.\n",
      "  \"the number of iterations.\", ConvergenceWarning)\n",
      "D:\\Users\\hvard\\Anaconda3\\lib\\site-packages\\sklearn\\svm\\base.py:931: ConvergenceWarning: Liblinear failed to converge, increase the number of iterations.\n",
      "  \"the number of iterations.\", ConvergenceWarning)\n",
      "D:\\Users\\hvard\\Anaconda3\\lib\\site-packages\\sklearn\\svm\\base.py:931: ConvergenceWarning: Liblinear failed to converge, increase the number of iterations.\n",
      "  \"the number of iterations.\", ConvergenceWarning)\n",
      "D:\\Users\\hvard\\Anaconda3\\lib\\site-packages\\sklearn\\svm\\base.py:931: ConvergenceWarning: Liblinear failed to converge, increase the number of iterations.\n",
      "  \"the number of iterations.\", ConvergenceWarning)\n",
      "D:\\Users\\hvard\\Anaconda3\\lib\\site-packages\\sklearn\\svm\\base.py:931: ConvergenceWarning: Liblinear failed to converge, increase the number of iterations.\n",
      "  \"the number of iterations.\", ConvergenceWarning)\n",
      "D:\\Users\\hvard\\Anaconda3\\lib\\site-packages\\sklearn\\svm\\base.py:931: ConvergenceWarning: Liblinear failed to converge, increase the number of iterations.\n",
      "  \"the number of iterations.\", ConvergenceWarning)\n",
      "D:\\Users\\hvard\\Anaconda3\\lib\\site-packages\\sklearn\\svm\\base.py:931: ConvergenceWarning: Liblinear failed to converge, increase the number of iterations.\n",
      "  \"the number of iterations.\", ConvergenceWarning)\n",
      "D:\\Users\\hvard\\Anaconda3\\lib\\site-packages\\sklearn\\svm\\base.py:931: ConvergenceWarning: Liblinear failed to converge, increase the number of iterations.\n",
      "  \"the number of iterations.\", ConvergenceWarning)\n",
      "D:\\Users\\hvard\\Anaconda3\\lib\\site-packages\\sklearn\\svm\\base.py:931: ConvergenceWarning: Liblinear failed to converge, increase the number of iterations.\n",
      "  \"the number of iterations.\", ConvergenceWarning)\n",
      "D:\\Users\\hvard\\Anaconda3\\lib\\site-packages\\sklearn\\svm\\base.py:931: ConvergenceWarning: Liblinear failed to converge, increase the number of iterations.\n",
      "  \"the number of iterations.\", ConvergenceWarning)\n",
      "D:\\Users\\hvard\\Anaconda3\\lib\\site-packages\\sklearn\\svm\\base.py:931: ConvergenceWarning: Liblinear failed to converge, increase the number of iterations.\n",
      "  \"the number of iterations.\", ConvergenceWarning)\n",
      "D:\\Users\\hvard\\Anaconda3\\lib\\site-packages\\sklearn\\svm\\base.py:931: ConvergenceWarning: Liblinear failed to converge, increase the number of iterations.\n",
      "  \"the number of iterations.\", ConvergenceWarning)\n",
      "D:\\Users\\hvard\\Anaconda3\\lib\\site-packages\\sklearn\\svm\\base.py:931: ConvergenceWarning: Liblinear failed to converge, increase the number of iterations.\n",
      "  \"the number of iterations.\", ConvergenceWarning)\n",
      "D:\\Users\\hvard\\Anaconda3\\lib\\site-packages\\sklearn\\svm\\base.py:931: ConvergenceWarning: Liblinear failed to converge, increase the number of iterations.\n",
      "  \"the number of iterations.\", ConvergenceWarning)\n",
      "D:\\Users\\hvard\\Anaconda3\\lib\\site-packages\\sklearn\\svm\\base.py:931: ConvergenceWarning: Liblinear failed to converge, increase the number of iterations.\n",
      "  \"the number of iterations.\", ConvergenceWarning)\n",
      "D:\\Users\\hvard\\Anaconda3\\lib\\site-packages\\sklearn\\svm\\base.py:931: ConvergenceWarning: Liblinear failed to converge, increase the number of iterations.\n",
      "  \"the number of iterations.\", ConvergenceWarning)\n",
      "D:\\Users\\hvard\\Anaconda3\\lib\\site-packages\\sklearn\\svm\\base.py:931: ConvergenceWarning: Liblinear failed to converge, increase the number of iterations.\n",
      "  \"the number of iterations.\", ConvergenceWarning)\n",
      "D:\\Users\\hvard\\Anaconda3\\lib\\site-packages\\sklearn\\svm\\base.py:931: ConvergenceWarning: Liblinear failed to converge, increase the number of iterations.\n",
      "  \"the number of iterations.\", ConvergenceWarning)\n",
      "D:\\Users\\hvard\\Anaconda3\\lib\\site-packages\\sklearn\\svm\\base.py:931: ConvergenceWarning: Liblinear failed to converge, increase the number of iterations.\n",
      "  \"the number of iterations.\", ConvergenceWarning)\n",
      "D:\\Users\\hvard\\Anaconda3\\lib\\site-packages\\sklearn\\svm\\base.py:931: ConvergenceWarning: Liblinear failed to converge, increase the number of iterations.\n",
      "  \"the number of iterations.\", ConvergenceWarning)\n",
      "D:\\Users\\hvard\\Anaconda3\\lib\\site-packages\\sklearn\\svm\\base.py:931: ConvergenceWarning: Liblinear failed to converge, increase the number of iterations.\n",
      "  \"the number of iterations.\", ConvergenceWarning)\n",
      "D:\\Users\\hvard\\Anaconda3\\lib\\site-packages\\sklearn\\svm\\base.py:931: ConvergenceWarning: Liblinear failed to converge, increase the number of iterations.\n",
      "  \"the number of iterations.\", ConvergenceWarning)\n",
      "D:\\Users\\hvard\\Anaconda3\\lib\\site-packages\\sklearn\\svm\\base.py:931: ConvergenceWarning: Liblinear failed to converge, increase the number of iterations.\n",
      "  \"the number of iterations.\", ConvergenceWarning)\n"
     ]
    },
    {
     "name": "stderr",
     "output_type": "stream",
     "text": [
      "D:\\Users\\hvard\\Anaconda3\\lib\\site-packages\\sklearn\\svm\\base.py:931: ConvergenceWarning: Liblinear failed to converge, increase the number of iterations.\n",
      "  \"the number of iterations.\", ConvergenceWarning)\n",
      "D:\\Users\\hvard\\Anaconda3\\lib\\site-packages\\sklearn\\svm\\base.py:931: ConvergenceWarning: Liblinear failed to converge, increase the number of iterations.\n",
      "  \"the number of iterations.\", ConvergenceWarning)\n"
     ]
    },
    {
     "name": "stdout",
     "output_type": "stream",
     "text": [
      "Best Mean Cross-validation score: 0.77\n",
      "\n",
      "Linear SVM Best parameters:  {'C': 10.01}\n",
      "\n",
      "Linear SVM Train Performance:  0.7720870678617158\n",
      "Linear SVM Test Performance:  0.7671641791044777\n",
      "\n",
      "Accuracy: 0.7671641791044777\n",
      "F1 score: 0.753684210526316\n",
      "Precision: 0.7366255144032922\n",
      "Recall: 0.771551724137931\n",
      "ROC_AUC: 0.7674764165976161\n",
      "Confusion Matrix:\n",
      " [[413 128]\n",
      " [106 358]]\n"
     ]
    },
    {
     "name": "stderr",
     "output_type": "stream",
     "text": [
      "D:\\Users\\hvard\\Anaconda3\\lib\\site-packages\\sklearn\\svm\\base.py:931: ConvergenceWarning: Liblinear failed to converge, increase the number of iterations.\n",
      "  \"the number of iterations.\", ConvergenceWarning)\n",
      "D:\\Users\\hvard\\Anaconda3\\lib\\site-packages\\sklearn\\svm\\base.py:931: ConvergenceWarning: Liblinear failed to converge, increase the number of iterations.\n",
      "  \"the number of iterations.\", ConvergenceWarning)\n"
     ]
    }
   ],
   "source": [
    "from sklearn.svm import LinearSVC\n",
    "from sklearn.model_selection import GridSearchCV\n",
    "from sklearn.model_selection import cross_val_score\n",
    "from sklearn import metrics\n",
    "\n",
    "svc = LinearSVC()\n",
    "param_grid = {'C':np.arange(0.01,100,10)}\n",
    "svm_grid = GridSearchCV(svc,param_grid,cv=5,return_train_score=True)\n",
    "svm_grid.fit(X_train_pca,y_train_pca)\n",
    "\n",
    "print(\"Best Mean Cross-validation score: {:.2f}\".format(svm_grid.best_score_), end='\\n\\n')\n",
    "\n",
    "#find best parameters\n",
    "print('Linear SVM Best parameters: ',svm_grid.best_params_, end='\\n\\n')\n",
    "\n",
    "#Check test data set performance\n",
    "print(\"Linear SVM Train Performance: \",svm_grid.score(X_train_pca,y_train_pca))\n",
    "print(\"Linear SVM Test Performance: \",svm_grid.score(X_test_pca,y_test_pca), end='\\n\\n')\n",
    "\n",
    "#Metrics\n",
    "prediction = svm_grid.predict(X_test_pca)\n",
    "print(\"Accuracy:\",metrics.accuracy_score(prediction,y_test_pca))\n",
    "print(\"F1 score:\",metrics.f1_score(prediction,y_test_pca))\n",
    "print(\"Precision:\",metrics.precision_score(prediction,y_test_pca))\n",
    "print(\"Recall:\",metrics.recall_score(prediction,y_test_pca))\n",
    "print(\"ROC_AUC:\",metrics.roc_auc_score(prediction,y_test_pca))\n",
    "print(\"Confusion Matrix:\\n\",metrics.confusion_matrix(prediction, y_test_pca))"
   ]
  },
  {
   "cell_type": "code",
   "execution_count": 69,
   "metadata": {},
   "outputs": [],
   "source": [
    "class_report['ModelName']['1'] = 'Linear SVM Classifier'\n",
    "class_report['TrainScore']['1'] = svm_grid.score(X_train_pca,y_train_pca)\n",
    "class_report['TestScore']['1'] = svm_grid.score(X_test_pca,y_test_pca)\n",
    "class_report['Accuracy']['1'] = metrics.accuracy_score(prediction,y_test_pca)\n",
    "class_report['CVScore']['1'] = \"{:.2f}\".format(svm_grid.best_score_)"
   ]
  },
  {
   "cell_type": "markdown",
   "metadata": {},
   "source": [
    "### Logistic Regression with PCA"
   ]
  },
  {
   "cell_type": "code",
   "execution_count": 70,
   "metadata": {},
   "outputs": [
    {
     "name": "stderr",
     "output_type": "stream",
     "text": [
      "D:\\Users\\hvard\\Anaconda3\\lib\\site-packages\\sklearn\\model_selection\\_split.py:2053: FutureWarning: You should specify a value for 'cv' instead of relying on the default value. The default value will change from 3 to 5 in version 0.22.\n",
      "  warnings.warn(CV_WARNING, FutureWarning)\n"
     ]
    },
    {
     "name": "stdout",
     "output_type": "stream",
     "text": [
      "Mean Cross-validation scores: 0.7750746905676483\n",
      "\n",
      "Best Logistic Regression parameters:  {'C': 0.01, 'dual': False, 'fit_intercept': True, 'penalty': 'l2', 'solver': 'saga'}\n",
      "\n",
      "Logistic Regression Train Performance:  0.7789159197609902\n",
      "Logistic Regression Test Performance:  0.764179104477612\n",
      "\n",
      "Accuracy: 0.764179104477612\n",
      "F1 score: 0.7492063492063493\n",
      "Precision: 0.7283950617283951\n",
      "Recall: 0.7712418300653595\n",
      "ROC_AUC: 0.7647417941535588\n",
      "Confusion Matrix:\n",
      " [[414 132]\n",
      " [105 354]]\n"
     ]
    }
   ],
   "source": [
    "from sklearn.linear_model import LogisticRegression\n",
    "from sklearn.model_selection import GridSearchCV\n",
    "from sklearn.model_selection import cross_val_score\n",
    "from sklearn import metrics\n",
    "\n",
    "clf = LogisticRegression()\n",
    "params = {'penalty':['l2'],'dual':[False],'C':[0.001, 0.01, 0.1, 1, 10, 100, 1000], 'fit_intercept':[True,False],\n",
    "        'solver':['saga','newton-cg', 'lbfgs', 'liblinear', 'sag']}\n",
    "gridlog = GridSearchCV(clf, params, cv=5, n_jobs=2, scoring='accuracy')\n",
    "gridlog.fit(X_train_pca, y_train_pca)\n",
    "\n",
    "cv_scores = cross_val_score(gridlog, X_train_pca, y_train_pca)\n",
    "\n",
    "#Mean Cross validation Score\n",
    "print(\"Mean Cross-validation scores: {}\".format(cv_scores.mean()), end='\\n\\n')\n",
    "\n",
    "#find best parameters\n",
    "print('Best Logistic Regression parameters: ',gridlog.best_params_, end='\\n\\n')\n",
    "\n",
    "\n",
    "#Check test data set performance\n",
    "print(\"Logistic Regression Train Performance: \",gridlog.score(X_train_pca,y_train_pca))\n",
    "print(\"Logistic Regression Test Performance: \",gridlog.score(X_test_pca,y_test_pca), end='\\n\\n')\n",
    "\n",
    "\n",
    "#Metrics\n",
    "prediction = gridlog.predict(X_test_pca)\n",
    "print(\"Accuracy:\",metrics.accuracy_score(prediction,y_test_pca))\n",
    "print(\"F1 score:\",metrics.f1_score(prediction,y_test_pca))\n",
    "print(\"Precision:\",metrics.precision_score(prediction,y_test_pca))\n",
    "print(\"Recall:\",metrics.recall_score(prediction,y_test_pca))\n",
    "print(\"ROC_AUC:\",metrics.roc_auc_score(prediction,y_test_pca))\n",
    "print(\"Confusion Matrix:\\n\",metrics.confusion_matrix(prediction, y_test_pca))"
   ]
  },
  {
   "cell_type": "code",
   "execution_count": 71,
   "metadata": {},
   "outputs": [],
   "source": [
    "class_report['ModelName']['2'] = 'Logistic Regression'\n",
    "class_report['TrainScore']['2'] = gridlog.score(X_train_pca,y_train_pca)\n",
    "class_report['TestScore']['2'] = gridlog.score(X_test_pca,y_test_pca)\n",
    "class_report['Accuracy']['2'] = metrics.accuracy_score(prediction,y_test_pca)\n",
    "class_report['CVScore']['2'] = \"{:.2f}\".format(cv_scores.mean())"
   ]
  },
  {
   "cell_type": "markdown",
   "metadata": {},
   "source": [
    "### KNN classifier with PCA"
   ]
  },
  {
   "cell_type": "code",
   "execution_count": 72,
   "metadata": {},
   "outputs": [
    {
     "name": "stdout",
     "output_type": "stream",
     "text": [
      "Best Mean Cross-validation score: 0.76\n",
      "\n",
      "KNN Best parameters:  {'C': 0.01, 'dual': False, 'fit_intercept': True, 'penalty': 'l2', 'solver': 'saga'}\n",
      "\n",
      "KNN Train Performance:  1.0\n",
      "KNN Test Performance:  0.746268656716418\n",
      "\n",
      "Accuracy: 0.746268656716418\n",
      "F1 score: 0.7411167512690355\n",
      "Precision: 0.7510288065843621\n",
      "Recall: 0.7314629258517034\n",
      "ROC_AUC: 0.7461662455345474\n",
      "Confusion Matrix:\n",
      " [[385 121]\n",
      " [134 365]]\n"
     ]
    }
   ],
   "source": [
    "from sklearn.model_selection import GridSearchCV\n",
    "from sklearn.neighbors import KNeighborsClassifier\n",
    "\n",
    "knn = KNeighborsClassifier()\n",
    "\n",
    "# define a list of parameters\n",
    "\n",
    "param_knn = {'n_neighbors': range(5,25), 'algorithm':['auto', 'ball_tree', 'kd_tree', 'brute'],\n",
    "            'weights':['uniform','distance']}\n",
    "\n",
    "#apply grid search\n",
    "grid_knn = GridSearchCV(knn, param_knn, cv=5, return_train_score=True, scoring='accuracy')\n",
    "grid_knn.fit(X_train_pca, y_train_pca)\n",
    "\n",
    "# Mean Cross Validation Score\n",
    "print(\"Best Mean Cross-validation score: {:.2f}\".format(grid_knn.best_score_), end='\\n\\n')\n",
    "\n",
    "#find best parameters\n",
    "print('KNN Best parameters: ',gridlog.best_params_, end='\\n\\n')\n",
    "\n",
    "#Check test data set performance\n",
    "print(\"KNN Train Performance: \",grid_knn.score(X_train_pca,y_train_pca))\n",
    "print(\"KNN Test Performance: \",grid_knn.score(X_test_pca,y_test_pca), end='\\n\\n')\n",
    "\n",
    "#Metrics\n",
    "prediction = grid_knn.predict(X_test_pca)\n",
    "print(\"Accuracy:\",metrics.accuracy_score(prediction,y_test_pca))\n",
    "print(\"F1 score:\",metrics.f1_score(prediction,y_test_pca))\n",
    "print(\"Precision:\",metrics.precision_score(prediction,y_test_pca))\n",
    "print(\"Recall:\",metrics.recall_score(prediction,y_test_pca))\n",
    "print(\"ROC_AUC:\",metrics.roc_auc_score(prediction,y_test_pca))\n",
    "print(\"Confusion Matrix:\\n\",metrics.confusion_matrix(prediction, y_test_pca))"
   ]
  },
  {
   "cell_type": "code",
   "execution_count": 73,
   "metadata": {},
   "outputs": [],
   "source": [
    "class_report['ModelName']['3'] = 'KNN Classifier'\n",
    "class_report['TrainScore']['3'] = grid_knn.score(X_train_pca,y_train_pca)\n",
    "class_report['TestScore']['3'] = grid_knn.score(X_test_pca,y_test_pca)\n",
    "class_report['Accuracy']['3'] = metrics.accuracy_score(prediction,y_test_pca)\n",
    "class_report['CVScore']['3'] = \"{:.2f}\".format(grid_knn.best_score_)"
   ]
  },
  {
   "cell_type": "markdown",
   "metadata": {},
   "source": [
    "### Decision Tree Classifier with PCA"
   ]
  },
  {
   "cell_type": "code",
   "execution_count": 74,
   "metadata": {},
   "outputs": [
    {
     "name": "stdout",
     "output_type": "stream",
     "text": [
      "Best Mean Cross-validation score: 0.72\n",
      "\n",
      "Decision Tree Best parameters:  {'criterion': 'entropy', 'max_depth': 2, 'max_leaf_nodes': 4, 'min_samples_split': 2, 'splitter': 'best'}\n",
      "\n",
      "Decision Tree Train Performance:  0.7413572343149808\n",
      "Decision Tree Test Performance:  0.6955223880597015\n",
      "\n",
      "Accuracy: 0.6955223880597015\n",
      "F1 score: 0.7150837988826816\n",
      "Precision: 0.7901234567901234\n",
      "Recall: 0.6530612244897959\n",
      "ROC_AUC: 0.7042284539715166\n",
      "Confusion Matrix:\n",
      " [[315 102]\n",
      " [204 384]]\n"
     ]
    }
   ],
   "source": [
    "from sklearn.tree import DecisionTreeClassifier\n",
    "dtree = DecisionTreeClassifier(random_state=0)\n",
    "\n",
    "\n",
    "param_dtree = {\"max_depth\": range(1,10),\n",
    "           \"min_samples_split\": range(2,10,1),\n",
    "           \"max_leaf_nodes\": range(2,5),\n",
    "           \"criterion\":['gini','entropy'],\n",
    "           \"splitter\":['best','random']}\n",
    "\n",
    "#apply grid search\n",
    "grid_dtree = GridSearchCV(dtree, param_dtree, cv=5, return_train_score = True, scoring='accuracy')\n",
    "grid_dtree.fit(X_train_pca, y_train_pca)\n",
    "\n",
    "# Mean Cross Validation Score\n",
    "print(\"Best Mean Cross-validation score: {:.2f}\".format(grid_dtree.best_score_), end='\\n\\n')\n",
    "\n",
    "#find best parameters\n",
    "print('Decision Tree Best parameters: ',grid_dtree.best_params_, end='\\n\\n')\n",
    "\n",
    "#Check test data set performance\n",
    "print(\"Decision Tree Train Performance: \",grid_dtree.score(X_train_pca,y_train_pca))\n",
    "print(\"Decision Tree Test Performance: \",grid_dtree.score(X_test_pca,y_test_pca), end='\\n\\n')\n",
    "\n",
    "#Metrics\n",
    "prediction = grid_dtree.predict(X_test_pca)\n",
    "print(\"Accuracy:\",metrics.accuracy_score(prediction,y_test_pca))\n",
    "print(\"F1 score:\",metrics.f1_score(prediction,y_test_pca))\n",
    "print(\"Precision:\",metrics.precision_score(prediction,y_test_pca))\n",
    "print(\"Recall:\",metrics.recall_score(prediction,y_test_pca))\n",
    "print(\"ROC_AUC:\",metrics.roc_auc_score(prediction,y_test_pca))\n",
    "print(\"Confusion Matrix:\\n\",metrics.confusion_matrix(prediction, y_test_pca))"
   ]
  },
  {
   "cell_type": "code",
   "execution_count": 75,
   "metadata": {},
   "outputs": [],
   "source": [
    "class_report['ModelName']['4'] = 'Decision Tree Classifier'\n",
    "class_report['TrainScore']['4'] = grid_dtree.score(X_train_pca,y_train_pca)\n",
    "class_report['TestScore']['4'] = grid_dtree.score(X_test_pca,y_test_pca)\n",
    "class_report['Accuracy']['4'] = metrics.accuracy_score(prediction,y_test_pca)\n",
    "class_report['CVScore']['4'] = \"{:.2f}\".format(grid_dtree.best_score_)"
   ]
  },
  {
   "cell_type": "markdown",
   "metadata": {},
   "source": [
    "## Classification without PCA Vs with PCA"
   ]
  },
  {
   "cell_type": "code",
   "execution_count": 76,
   "metadata": {},
   "outputs": [],
   "source": [
    "without_pca = pd.read_csv('Classification_without_PCA.csv')"
   ]
  },
  {
   "cell_type": "code",
   "execution_count": 79,
   "metadata": {},
   "outputs": [
    {
     "name": "stdout",
     "output_type": "stream",
     "text": [
      "Without PCA\n"
     ]
    },
    {
     "data": {
      "text/html": [
       "<div>\n",
       "<style scoped>\n",
       "    .dataframe tbody tr th:only-of-type {\n",
       "        vertical-align: middle;\n",
       "    }\n",
       "\n",
       "    .dataframe tbody tr th {\n",
       "        vertical-align: top;\n",
       "    }\n",
       "\n",
       "    .dataframe thead th {\n",
       "        text-align: right;\n",
       "    }\n",
       "</style>\n",
       "<table border=\"1\" class=\"dataframe\">\n",
       "  <thead>\n",
       "    <tr style=\"text-align: right;\">\n",
       "      <th></th>\n",
       "      <th>ModelName</th>\n",
       "      <th>TrainScore</th>\n",
       "      <th>TestScore</th>\n",
       "      <th>Accuracy</th>\n",
       "      <th>CVScore</th>\n",
       "    </tr>\n",
       "  </thead>\n",
       "  <tbody>\n",
       "    <tr>\n",
       "      <th>0</th>\n",
       "      <td>Kernelized SVM Classifier</td>\n",
       "      <td>0.72</td>\n",
       "      <td>0.70</td>\n",
       "      <td>0.70</td>\n",
       "      <td>0.69</td>\n",
       "    </tr>\n",
       "    <tr>\n",
       "      <th>1</th>\n",
       "      <td>Linear SVM Classifier</td>\n",
       "      <td>0.70</td>\n",
       "      <td>0.68</td>\n",
       "      <td>0.68</td>\n",
       "      <td>0.69</td>\n",
       "    </tr>\n",
       "    <tr>\n",
       "      <th>2</th>\n",
       "      <td>Logistic Regression</td>\n",
       "      <td>0.70</td>\n",
       "      <td>0.68</td>\n",
       "      <td>0.68</td>\n",
       "      <td>0.68</td>\n",
       "    </tr>\n",
       "    <tr>\n",
       "      <th>3</th>\n",
       "      <td>KNN Classifier</td>\n",
       "      <td>0.69</td>\n",
       "      <td>0.65</td>\n",
       "      <td>0.65</td>\n",
       "      <td>0.67</td>\n",
       "    </tr>\n",
       "    <tr>\n",
       "      <th>4</th>\n",
       "      <td>Decision Tree Classifier</td>\n",
       "      <td>0.67</td>\n",
       "      <td>0.68</td>\n",
       "      <td>0.68</td>\n",
       "      <td>0.68</td>\n",
       "    </tr>\n",
       "  </tbody>\n",
       "</table>\n",
       "</div>"
      ],
      "text/plain": [
       "                   ModelName  TrainScore  TestScore  Accuracy  CVScore\n",
       "0  Kernelized SVM Classifier        0.72       0.70      0.70     0.69\n",
       "1      Linear SVM Classifier        0.70       0.68      0.68     0.69\n",
       "2        Logistic Regression        0.70       0.68      0.68     0.68\n",
       "3             KNN Classifier        0.69       0.65      0.65     0.67\n",
       "4   Decision Tree Classifier        0.67       0.68      0.68     0.68"
      ]
     },
     "metadata": {},
     "output_type": "display_data"
    },
    {
     "name": "stdout",
     "output_type": "stream",
     "text": [
      "With PCA\n"
     ]
    },
    {
     "data": {
      "text/html": [
       "<div>\n",
       "<style scoped>\n",
       "    .dataframe tbody tr th:only-of-type {\n",
       "        vertical-align: middle;\n",
       "    }\n",
       "\n",
       "    .dataframe tbody tr th {\n",
       "        vertical-align: top;\n",
       "    }\n",
       "\n",
       "    .dataframe thead th {\n",
       "        text-align: right;\n",
       "    }\n",
       "</style>\n",
       "<table border=\"1\" class=\"dataframe\">\n",
       "  <thead>\n",
       "    <tr style=\"text-align: right;\">\n",
       "      <th></th>\n",
       "      <th>ModelName</th>\n",
       "      <th>TrainScore</th>\n",
       "      <th>TestScore</th>\n",
       "      <th>Accuracy</th>\n",
       "      <th>CVScore</th>\n",
       "    </tr>\n",
       "  </thead>\n",
       "  <tbody>\n",
       "    <tr>\n",
       "      <th>0</th>\n",
       "      <td>Kernelized SVM Classifier</td>\n",
       "      <td>0.776782</td>\n",
       "      <td>0.756219</td>\n",
       "      <td>0.756219</td>\n",
       "      <td>0.78</td>\n",
       "    </tr>\n",
       "    <tr>\n",
       "      <th>1</th>\n",
       "      <td>Linear SVM Classifier</td>\n",
       "      <td>0.772087</td>\n",
       "      <td>0.767164</td>\n",
       "      <td>0.767164</td>\n",
       "      <td>0.77</td>\n",
       "    </tr>\n",
       "    <tr>\n",
       "      <th>2</th>\n",
       "      <td>Logistic Regression</td>\n",
       "      <td>0.778916</td>\n",
       "      <td>0.764179</td>\n",
       "      <td>0.764179</td>\n",
       "      <td>0.78</td>\n",
       "    </tr>\n",
       "    <tr>\n",
       "      <th>3</th>\n",
       "      <td>KNN Classifier</td>\n",
       "      <td>1</td>\n",
       "      <td>0.746269</td>\n",
       "      <td>0.746269</td>\n",
       "      <td>0.76</td>\n",
       "    </tr>\n",
       "    <tr>\n",
       "      <th>4</th>\n",
       "      <td>Decision Tree Classifier</td>\n",
       "      <td>0.741357</td>\n",
       "      <td>0.695522</td>\n",
       "      <td>0.695522</td>\n",
       "      <td>0.72</td>\n",
       "    </tr>\n",
       "  </tbody>\n",
       "</table>\n",
       "</div>"
      ],
      "text/plain": [
       "                   ModelName TrainScore TestScore  Accuracy CVScore\n",
       "0  Kernelized SVM Classifier   0.776782  0.756219  0.756219    0.78\n",
       "1      Linear SVM Classifier   0.772087  0.767164  0.767164    0.77\n",
       "2        Logistic Regression   0.778916  0.764179  0.764179    0.78\n",
       "3             KNN Classifier          1  0.746269  0.746269    0.76\n",
       "4   Decision Tree Classifier   0.741357  0.695522  0.695522    0.72"
      ]
     },
     "metadata": {},
     "output_type": "display_data"
    }
   ],
   "source": [
    "from IPython.display import display\n",
    "print('Without PCA')\n",
    "display(without_pca) # Classification results without PCA\n",
    "print(\"With PCA\")\n",
    "display(class_report) # Classification results with PCA"
   ]
  },
  {
   "cell_type": "markdown",
   "metadata": {},
   "source": [
    "`Clearly we see that PCA does help us in getting better results.`"
   ]
  }
 ],
 "metadata": {
  "kernelspec": {
   "display_name": "Python 3",
   "language": "python",
   "name": "python3"
  },
  "language_info": {
   "codemirror_mode": {
    "name": "ipython",
    "version": 3
   },
   "file_extension": ".py",
   "mimetype": "text/x-python",
   "name": "python",
   "nbconvert_exporter": "python",
   "pygments_lexer": "ipython3",
   "version": "3.7.4"
  },
  "toc": {
   "base_numbering": 1,
   "nav_menu": {},
   "number_sections": true,
   "sideBar": true,
   "skip_h1_title": false,
   "title_cell": "Table of Contents",
   "title_sidebar": "Contents",
   "toc_cell": false,
   "toc_position": {},
   "toc_section_display": true,
   "toc_window_display": true
  }
 },
 "nbformat": 4,
 "nbformat_minor": 2
}
